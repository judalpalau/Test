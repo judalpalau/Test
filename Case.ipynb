{
 "cells": [
  {
   "cell_type": "markdown",
   "metadata": {},
   "source": [
    "# Cable & Wireless Communications\n",
    "\n",
    "In this file you'll find a data set from one of our markets consisting of 225,754 users who joined our business between May 2019 and August 2019. For each user you have the available data of: Recharge, Revenue, ADPU (Average Data per User) and MOU (Minutes of Usage)."
   ]
  },
  {
   "cell_type": "markdown",
   "metadata": {},
   "source": [
    "## Data Analisys\n",
    "\n",
    "To understand the case of study, it's neccesary to dive in data and understand it's consistency, completeness and accuracy, also some standard metrics as means and quartils. That's the reason to start with some data comprehention and data cleaning."
   ]
  },
  {
   "cell_type": "code",
   "execution_count": 1,
   "metadata": {
    "collapsed": true,
    "jupyter": {
     "outputs_hidden": true,
     "source_hidden": true
    }
   },
   "outputs": [
    {
     "name": "stderr",
     "output_type": "stream",
     "text": [
      "\n",
      "Attaching package: ‘reshape2’\n",
      "\n",
      "\n",
      "The following objects are masked from ‘package:data.table’:\n",
      "\n",
      "    dcast, melt\n",
      "\n",
      "\n",
      "\n",
      "Attaching package: ‘dplyr’\n",
      "\n",
      "\n",
      "The following objects are masked from ‘package:data.table’:\n",
      "\n",
      "    between, first, last\n",
      "\n",
      "\n",
      "The following objects are masked from ‘package:stats’:\n",
      "\n",
      "    filter, lag\n",
      "\n",
      "\n",
      "The following objects are masked from ‘package:base’:\n",
      "\n",
      "    intersect, setdiff, setequal, union\n",
      "\n",
      "\n"
     ]
    }
   ],
   "source": [
    "# Loading requiered libraries\n",
    "library(data.table)\n",
    "library(reshape2)\n",
    "library(ggplot2)\n",
    "library(dplyr)"
   ]
  },
  {
   "cell_type": "code",
   "execution_count": 2,
   "metadata": {
    "jupyter": {
     "source_hidden": true
    }
   },
   "outputs": [
    {
     "data": {
      "text/html": [
       "<table>\n",
       "<caption>A data.table: 6 × 18</caption>\n",
       "<thead>\n",
       "\t<tr><th scope=col>user</th><th scope=col>date_added</th><th scope=col>Recharge_May</th><th scope=col>Revenue_May</th><th scope=col>ADPU_May</th><th scope=col>MOU_May</th><th scope=col>Recharge_June</th><th scope=col>Revenue_June</th><th scope=col>ADPU_June</th><th scope=col>MOU_June</th><th scope=col>Recharge_July</th><th scope=col>Revenue_July</th><th scope=col>ADPU_July</th><th scope=col>MOU_July</th><th scope=col>Recharge_August</th><th scope=col>Revenue_August</th><th scope=col>ADPU_August</th><th scope=col>MOU_August</th></tr>\n",
       "\t<tr><th scope=col>&lt;int&gt;</th><th scope=col>&lt;date&gt;</th><th scope=col>&lt;dbl&gt;</th><th scope=col>&lt;dbl&gt;</th><th scope=col>&lt;dbl&gt;</th><th scope=col>&lt;dbl&gt;</th><th scope=col>&lt;dbl&gt;</th><th scope=col>&lt;dbl&gt;</th><th scope=col>&lt;dbl&gt;</th><th scope=col>&lt;dbl&gt;</th><th scope=col>&lt;dbl&gt;</th><th scope=col>&lt;dbl&gt;</th><th scope=col>&lt;dbl&gt;</th><th scope=col>&lt;dbl&gt;</th><th scope=col>&lt;dbl&gt;</th><th scope=col>&lt;dbl&gt;</th><th scope=col>&lt;dbl&gt;</th><th scope=col>&lt;dbl&gt;</th></tr>\n",
       "</thead>\n",
       "<tbody>\n",
       "\t<tr><td>1</td><td>2020-05-01</td><td> 0.000000</td><td> 0.4599997</td><td>   0.00000</td><td>   9.983333</td><td> 0.00000</td><td> 0.0118362</td><td>   0.000000</td><td>   0.250000</td><td> 0.7692308</td><td> 0.1228714</td><td>   0.000000</td><td>   2.666667</td><td> 1.5384615</td><td> 3.1056256</td><td>  0.00000000</td><td>  66.733333</td></tr>\n",
       "\t<tr><td>2</td><td>2020-05-01</td><td> 2.707692</td><td> 2.9380505</td><td>   0.00000</td><td>  71.133333</td><td> 0.00000</td><td> 0.0000000</td><td>   0.000000</td><td>  16.700000</td><td> 0.0000000</td><td> 0.0000000</td><td>   0.000000</td><td>   0.000000</td><td> 0.7692308</td><td> 0.6627375</td><td>  0.00000000</td><td>  14.383333</td></tr>\n",
       "\t<tr><td>3</td><td>2020-05-01</td><td>37.893615</td><td>23.9447767</td><td>3830.98756</td><td>1572.516667</td><td>12.80448</td><td>18.9328671</td><td>4550.145729</td><td>2956.383333</td><td>33.2630769</td><td>34.7875592</td><td>1029.724750</td><td>2666.116667</td><td>29.7600769</td><td>19.5737766</td><td>978.23851250</td><td>3345.250000</td></tr>\n",
       "\t<tr><td>4</td><td>2020-05-01</td><td> 8.923077</td><td> 8.9506290</td><td>1354.35456</td><td> 322.283333</td><td> 2.37120</td><td> 0.3360502</td><td>   1.892122</td><td>   3.266667</td><td> 0.7692308</td><td> 0.7069366</td><td>   0.012003</td><td>   0.000000</td><td> 0.7692308</td><td> 0.7692308</td><td>  0.01140285</td><td>   5.616667</td></tr>\n",
       "\t<tr><td>5</td><td>2020-05-01</td><td> 7.692308</td><td> 7.0907448</td><td>  36.39852</td><td>  10.166667</td><td> 1.58080</td><td> 0.9309896</td><td>   6.404196</td><td>   1.600000</td><td> 3.8461538</td><td> 5.3108926</td><td>  11.930114</td><td>  26.216667</td><td> 0.0000000</td><td> 0.0000000</td><td> 11.33360830</td><td>   0.000000</td></tr>\n",
       "\t<tr><td>6</td><td>2020-05-01</td><td>11.538462</td><td>11.6608214</td><td> 153.51929</td><td>  28.533333</td><td> 0.00000</td><td> 0.1112603</td><td>   0.000000</td><td>   2.350000</td><td> 0.0000000</td><td> 0.0000000</td><td>   0.000000</td><td>   0.000000</td><td> 0.0000000</td><td> 0.0000000</td><td>  0.00000000</td><td>   0.000000</td></tr>\n",
       "</tbody>\n",
       "</table>\n"
      ],
      "text/latex": [
       "A data.table: 6 × 18\n",
       "\\begin{tabular}{llllllllllllllllll}\n",
       " user & date\\_added & Recharge\\_May & Revenue\\_May & ADPU\\_May & MOU\\_May & Recharge\\_June & Revenue\\_June & ADPU\\_June & MOU\\_June & Recharge\\_July & Revenue\\_July & ADPU\\_July & MOU\\_July & Recharge\\_August & Revenue\\_August & ADPU\\_August & MOU\\_August\\\\\n",
       " <int> & <date> & <dbl> & <dbl> & <dbl> & <dbl> & <dbl> & <dbl> & <dbl> & <dbl> & <dbl> & <dbl> & <dbl> & <dbl> & <dbl> & <dbl> & <dbl> & <dbl>\\\\\n",
       "\\hline\n",
       "\t 1 & 2020-05-01 &  0.000000 &  0.4599997 &    0.00000 &    9.983333 &  0.00000 &  0.0118362 &    0.000000 &    0.250000 &  0.7692308 &  0.1228714 &    0.000000 &    2.666667 &  1.5384615 &  3.1056256 &   0.00000000 &   66.733333\\\\\n",
       "\t 2 & 2020-05-01 &  2.707692 &  2.9380505 &    0.00000 &   71.133333 &  0.00000 &  0.0000000 &    0.000000 &   16.700000 &  0.0000000 &  0.0000000 &    0.000000 &    0.000000 &  0.7692308 &  0.6627375 &   0.00000000 &   14.383333\\\\\n",
       "\t 3 & 2020-05-01 & 37.893615 & 23.9447767 & 3830.98756 & 1572.516667 & 12.80448 & 18.9328671 & 4550.145729 & 2956.383333 & 33.2630769 & 34.7875592 & 1029.724750 & 2666.116667 & 29.7600769 & 19.5737766 & 978.23851250 & 3345.250000\\\\\n",
       "\t 4 & 2020-05-01 &  8.923077 &  8.9506290 & 1354.35456 &  322.283333 &  2.37120 &  0.3360502 &    1.892122 &    3.266667 &  0.7692308 &  0.7069366 &    0.012003 &    0.000000 &  0.7692308 &  0.7692308 &   0.01140285 &    5.616667\\\\\n",
       "\t 5 & 2020-05-01 &  7.692308 &  7.0907448 &   36.39852 &   10.166667 &  1.58080 &  0.9309896 &    6.404196 &    1.600000 &  3.8461538 &  5.3108926 &   11.930114 &   26.216667 &  0.0000000 &  0.0000000 &  11.33360830 &    0.000000\\\\\n",
       "\t 6 & 2020-05-01 & 11.538462 & 11.6608214 &  153.51929 &   28.533333 &  0.00000 &  0.1112603 &    0.000000 &    2.350000 &  0.0000000 &  0.0000000 &    0.000000 &    0.000000 &  0.0000000 &  0.0000000 &   0.00000000 &    0.000000\\\\\n",
       "\\end{tabular}\n"
      ],
      "text/markdown": [
       "\n",
       "A data.table: 6 × 18\n",
       "\n",
       "| user &lt;int&gt; | date_added &lt;date&gt; | Recharge_May &lt;dbl&gt; | Revenue_May &lt;dbl&gt; | ADPU_May &lt;dbl&gt; | MOU_May &lt;dbl&gt; | Recharge_June &lt;dbl&gt; | Revenue_June &lt;dbl&gt; | ADPU_June &lt;dbl&gt; | MOU_June &lt;dbl&gt; | Recharge_July &lt;dbl&gt; | Revenue_July &lt;dbl&gt; | ADPU_July &lt;dbl&gt; | MOU_July &lt;dbl&gt; | Recharge_August &lt;dbl&gt; | Revenue_August &lt;dbl&gt; | ADPU_August &lt;dbl&gt; | MOU_August &lt;dbl&gt; |\n",
       "|---|---|---|---|---|---|---|---|---|---|---|---|---|---|---|---|---|---|\n",
       "| 1 | 2020-05-01 |  0.000000 |  0.4599997 |    0.00000 |    9.983333 |  0.00000 |  0.0118362 |    0.000000 |    0.250000 |  0.7692308 |  0.1228714 |    0.000000 |    2.666667 |  1.5384615 |  3.1056256 |   0.00000000 |   66.733333 |\n",
       "| 2 | 2020-05-01 |  2.707692 |  2.9380505 |    0.00000 |   71.133333 |  0.00000 |  0.0000000 |    0.000000 |   16.700000 |  0.0000000 |  0.0000000 |    0.000000 |    0.000000 |  0.7692308 |  0.6627375 |   0.00000000 |   14.383333 |\n",
       "| 3 | 2020-05-01 | 37.893615 | 23.9447767 | 3830.98756 | 1572.516667 | 12.80448 | 18.9328671 | 4550.145729 | 2956.383333 | 33.2630769 | 34.7875592 | 1029.724750 | 2666.116667 | 29.7600769 | 19.5737766 | 978.23851250 | 3345.250000 |\n",
       "| 4 | 2020-05-01 |  8.923077 |  8.9506290 | 1354.35456 |  322.283333 |  2.37120 |  0.3360502 |    1.892122 |    3.266667 |  0.7692308 |  0.7069366 |    0.012003 |    0.000000 |  0.7692308 |  0.7692308 |   0.01140285 |    5.616667 |\n",
       "| 5 | 2020-05-01 |  7.692308 |  7.0907448 |   36.39852 |   10.166667 |  1.58080 |  0.9309896 |    6.404196 |    1.600000 |  3.8461538 |  5.3108926 |   11.930114 |   26.216667 |  0.0000000 |  0.0000000 |  11.33360830 |    0.000000 |\n",
       "| 6 | 2020-05-01 | 11.538462 | 11.6608214 |  153.51929 |   28.533333 |  0.00000 |  0.1112603 |    0.000000 |    2.350000 |  0.0000000 |  0.0000000 |    0.000000 |    0.000000 |  0.0000000 |  0.0000000 |   0.00000000 |    0.000000 |\n",
       "\n"
      ],
      "text/plain": [
       "  user date_added Recharge_May Revenue_May ADPU_May   MOU_May     Recharge_June\n",
       "1 1    2020-05-01  0.000000     0.4599997     0.00000    9.983333  0.00000     \n",
       "2 2    2020-05-01  2.707692     2.9380505     0.00000   71.133333  0.00000     \n",
       "3 3    2020-05-01 37.893615    23.9447767  3830.98756 1572.516667 12.80448     \n",
       "4 4    2020-05-01  8.923077     8.9506290  1354.35456  322.283333  2.37120     \n",
       "5 5    2020-05-01  7.692308     7.0907448    36.39852   10.166667  1.58080     \n",
       "6 6    2020-05-01 11.538462    11.6608214   153.51929   28.533333  0.00000     \n",
       "  Revenue_June ADPU_June   MOU_June    Recharge_July Revenue_July ADPU_July  \n",
       "1  0.0118362      0.000000    0.250000  0.7692308     0.1228714      0.000000\n",
       "2  0.0000000      0.000000   16.700000  0.0000000     0.0000000      0.000000\n",
       "3 18.9328671   4550.145729 2956.383333 33.2630769    34.7875592   1029.724750\n",
       "4  0.3360502      1.892122    3.266667  0.7692308     0.7069366      0.012003\n",
       "5  0.9309896      6.404196    1.600000  3.8461538     5.3108926     11.930114\n",
       "6  0.1112603      0.000000    2.350000  0.0000000     0.0000000      0.000000\n",
       "  MOU_July    Recharge_August Revenue_August ADPU_August  MOU_August \n",
       "1    2.666667  1.5384615       3.1056256       0.00000000   66.733333\n",
       "2    0.000000  0.7692308       0.6627375       0.00000000   14.383333\n",
       "3 2666.116667 29.7600769      19.5737766     978.23851250 3345.250000\n",
       "4    0.000000  0.7692308       0.7692308       0.01140285    5.616667\n",
       "5   26.216667  0.0000000       0.0000000      11.33360830    0.000000\n",
       "6    0.000000  0.0000000       0.0000000       0.00000000    0.000000"
      ]
     },
     "metadata": {},
     "output_type": "display_data"
    },
    {
     "name": "stdout",
     "output_type": "stream",
     "text": [
      "[1] \"Total of users subscribed: 225754\"\n"
     ]
    }
   ],
   "source": [
    "#Loading Data\n",
    "data <- fread(\"cwc_data.csv\", dec = \".\")\n",
    "data$date_added <- as.Date(data$date_added, format = \"%m/%d/%y\")\n",
    "head(data)\n",
    "print(sprintf(\"Total of users subscribed: %s\",nrow(data)))"
   ]
  },
  {
   "cell_type": "code",
   "execution_count": 3,
   "metadata": {
    "jupyter": {
     "source_hidden": true
    }
   },
   "outputs": [
    {
     "name": "stdout",
     "output_type": "stream",
     "text": [
      "First approach to data and understanding of distributions. \n",
      " \n",
      " \n"
     ]
    },
    {
     "data": {
      "text/plain": [
       "      user          date_added          Recharge_May       Revenue_May      \n",
       " Min.   :     1   Min.   :2020-05-01   Min.   :   0.000   Min.   :   0.000  \n",
       " 1st Qu.: 56439   1st Qu.:2020-05-28   1st Qu.:   0.000   1st Qu.:   0.000  \n",
       " Median :112878   Median :2020-06-24   Median :   0.000   Median :   0.000  \n",
       " Mean   :112878   Mean   :2020-06-27   Mean   :   1.861   Mean   :   1.655  \n",
       " 3rd Qu.:169316   3rd Qu.:2020-07-26   3rd Qu.:   3.077   3rd Qu.:   2.692  \n",
       " Max.   :225754   Max.   :2020-08-31   Max.   :1595.834   Max.   :1568.101  \n",
       "    ADPU_May           MOU_May        Recharge_June       Revenue_June    \n",
       " Min.   :     0.0   Min.   :   0.00   Min.   :   0.000   Min.   :  0.000  \n",
       " 1st Qu.:     0.0   1st Qu.:   0.00   1st Qu.:   0.000   1st Qu.:  0.000  \n",
       " Median :     0.0   Median :   0.00   Median :   0.000   Median :  0.000  \n",
       " Mean   :   225.3   Mean   :  32.34   Mean   :   3.300   Mean   :  2.978  \n",
       " 3rd Qu.:     0.0   3rd Qu.:   0.00   3rd Qu.:   3.162   3rd Qu.:  3.398  \n",
       " Max.   :146928.1   Max.   :9859.23   Max.   :1135.014   Max.   :254.010  \n",
       "   ADPU_June           MOU_June        Recharge_July       Revenue_July    \n",
       " Min.   :     0.0   Min.   :    0.00   Min.   :  0.0000   Min.   :  0.000  \n",
       " 1st Qu.:     0.0   1st Qu.:    0.00   1st Qu.:  0.0000   1st Qu.:  0.000  \n",
       " Median :     0.0   Median :    0.00   Median :  0.9231   Median :  1.015  \n",
       " Mean   :   556.3   Mean   :   72.42   Mean   :  4.7583   Mean   :  4.415  \n",
       " 3rd Qu.:    12.8   3rd Qu.:   35.00   3rd Qu.:  6.1538   3rd Qu.:  5.897  \n",
       " Max.   :387465.6   Max.   :12495.42   Max.   :751.5385   Max.   :836.223  \n",
       "   ADPU_July           MOU_July         Recharge_August   Revenue_August   \n",
       " Min.   :    0.00   Min.   :    0.000   Min.   :  0.000   Min.   :  0.000  \n",
       " 1st Qu.:    0.00   1st Qu.:    0.000   1st Qu.:  0.000   1st Qu.:  0.000  \n",
       " Median :    0.00   Median :    4.017   Median :  2.308   Median :  2.377  \n",
       " Mean   :  218.52   Mean   :  111.910   Mean   :  5.504   Mean   :  5.150  \n",
       " 3rd Qu.:    0.01   3rd Qu.:   70.933   3rd Qu.:  7.692   3rd Qu.:  7.307  \n",
       " Max.   :78816.64   Max.   :15109.617   Max.   :497.154   Max.   :497.155  \n",
       "  ADPU_August         MOU_August     \n",
       " Min.   :    0.00   Min.   :    0.0  \n",
       " 1st Qu.:    0.00   1st Qu.:    0.0  \n",
       " Median :    0.00   Median :   15.1  \n",
       " Mean   :  207.59   Mean   :  143.3  \n",
       " 3rd Qu.:    0.01   3rd Qu.:  102.8  \n",
       " Max.   :74875.80   Max.   :11298.0  "
      ]
     },
     "metadata": {},
     "output_type": "display_data"
    }
   ],
   "source": [
    "#Summary of data (Without Cleaning)\n",
    "cat(\"First approach to data and understanding of distributions. \\n \\n \\n\")\n",
    "summary(data)"
   ]
  },
  {
   "cell_type": "code",
   "execution_count": 4,
   "metadata": {
    "jupyter": {
     "source_hidden": true
    }
   },
   "outputs": [
    {
     "name": "stdout",
     "output_type": "stream",
     "text": [
      "Users subscribed by month"
     ]
    },
    {
     "data": {
      "text/plain": [
       "\n",
       "    5     6     7     8 \n",
       "64682 60252 53198 47622 "
      ]
     },
     "metadata": {},
     "output_type": "display_data"
    }
   ],
   "source": [
    "cat(\"Users subscribed by month\")\n",
    "table(month(data$date_added))"
   ]
  },
  {
   "cell_type": "code",
   "execution_count": 5,
   "metadata": {
    "jupyter": {
     "source_hidden": true
    }
   },
   "outputs": [
    {
     "name": "stdout",
     "output_type": "stream",
     "text": [
      "Validation of consistency. By business logic, is not possible to have any consumption neigther recharge of line before subscription.Taking this rule, data have 2007 inconsistent records to be normaliced."
     ]
    }
   ],
   "source": [
    "# Cleaning Data\n",
    "#1. Cleaning incoherent usage in months before activation\n",
    "data[,month_added := month(data$date_added)]\n",
    "data <- melt(data, id.vars = c(\"user\", \"date_added\", \"month_added\"))\n",
    "\n",
    "temp_variable <- data.table(variable = levels(data$variable),\n",
    "                            month = rep(5:8, each= 4),\n",
    "                            action = rep(c(\"Recharge\", \"Revenue\", \"ADPU\",\"MOU\"), times = 4))\n",
    "\n",
    "setkey(data, \"variable\"); setkey(temp_variable, \"variable\")\n",
    "data <- data[temp_variable]\n",
    "setorder(data, user, month, action)\n",
    "\n",
    "cat(\"Validation of consistency. By business logic, is not possible to have any consumption neigther recharge of line before subscription.\" )\n",
    "cat(sprintf(\"Taking this rule, data have %s inconsistent records to be normaliced.\", nrow(data[month < month_added & value != 0])))\n",
    "data[month <  month_added, value := 0]"
   ]
  },
  {
   "cell_type": "code",
   "execution_count": 6,
   "metadata": {
    "jupyter": {
     "source_hidden": true
    }
   },
   "outputs": [
    {
     "data": {
      "image/png": "[encoded data removed]",
      "text/plain": [
       "plot without title"
      ]
     },
     "metadata": {
      "image/png": {
       "height": 420,
       "width": 420
      }
     },
     "output_type": "display_data"
    }
   ],
   "source": [
    "#Data description\n",
    "data %>% \n",
    "  filter(value %between% c(0.1,50)) %>% \n",
    "  ggplot(aes(x=as.character(month_added),y=value, fill = factor(month))) +\n",
    "  geom_violin() + labs(y=\"Value\", x = \"Month of suscription\", fill = \"Month of use\") + \n",
    "  ggtitle(\"Distribution of Variables\") + facet_grid(vars(action), scales = \"free\")"
   ]
  },
  {
   "cell_type": "markdown",
   "metadata": {},
   "source": [
    "Distribution of data usage and minutes spend by month keep a similar and constant distribution during all time. \n",
    "\n",
    "It is relevant the bimodal distribution of Recharge and Revenue in their first month, flattened after second month, where they keep a distribution with positive skewness. This could be explained for first recharges have 2 options , one near to USD 2,75 and 11.5). \n",
    "\n",
    "Also, those distributions shows a reduction in the averaged ticket, keeping relation with common use of prepaid lines."
   ]
  },
  {
   "cell_type": "markdown",
   "metadata": {},
   "source": [
    "## Questions in Test\n",
    "With the available data you'll need to answer to the couple situations and requests:\n",
    "\n",
    "### 1) <strong>Phone Challenge:</strong>\n",
    "Challenge consisting in giving away a new cell phone to those users who have reduced their recharge value if they increase their recharge value by X% amount. Using the total of customers added in <strong>May</strong>, please identify how many users have reduced their average recharge value from May to August. Considering an incremental in their august recharge value of 15%, and a cost of $25 per phone, what will be gross profit of the phone challenge? how many months does a customer from the phone challenge needs to recharge to breakeven the phone cost?\n"
   ]
  },
  {
   "cell_type": "markdown",
   "metadata": {},
   "source": [
    "Taking those users tha decrease their average ticket from may to august and assuming: \n",
    "- Users that didn't recharge during july and august as inactive (not candidates for this campaign) or \n",
    "- Users without recharge or Revenue in august as inactive and \n",
    "- Value of average ticket as last recharge for those users that didn't recharge in august but something in July."
   ]
  },
  {
   "cell_type": "code",
   "execution_count": 7,
   "metadata": {
    "jupyter": {
     "source_hidden": true
    }
   },
   "outputs": [],
   "source": [
    "point_1 <- data %>% \n",
    "  filter(\n",
    "    month_added==5,\n",
    "    action == \"Recharge\") %>% \n",
    "  group_by(user) %>% \n",
    "  mutate(avg_rech=mean(value, na.rm = TRUE),\n",
    "         rech_aug = last(value)) %>%\n",
    "  ungroup() \n",
    "\n",
    "\n",
    "\n",
    "Inactive_1 <- intersect(data %>% \n",
    "                          filter(\n",
    "                            month_added==5,\n",
    "                            action == \"Recharge\", \n",
    "                            (month == 7 & value ==0) ) %>% select(user),\n",
    "                        data %>% filter(\n",
    "                          month_added==5,\n",
    "                          action == \"Recharge\", \n",
    "                          (month == 8 & value ==0) ) %>% select(user)\n",
    ")\n",
    "\n",
    "Inactive_2 <- intersect(data %>% \n",
    "                          filter(\n",
    "                            month_added==5,\n",
    "                            action == \"Recharge\", \n",
    "                            (month == 8 & value ==0) ) %>% select(user),\n",
    "                        data %>% filter(\n",
    "                          month_added==5,\n",
    "                          action == \"Revenue\", \n",
    "                          (month == 8 & value ==0) ) %>% select(user)\n",
    ")\n",
    "\n",
    "point_1$candidate <- FALSE\n",
    "point_1$candidate[point_1$value>point_1$avg_rech] <- TRUE\n",
    "point_1$candidate[point_1$user %in% Inactive_1$user] <- FALSE\n",
    "point_1$candidate[point_1$user %in% Inactive_2$user] <- FALSE\n",
    "\n",
    "point_1_candidate <- point_1 %>% filter(month==5, candidate)"
   ]
  },
  {
   "cell_type": "code",
   "execution_count": 8,
   "metadata": {
    "jupyter": {
     "source_hidden": true
    }
   },
   "outputs": [
    {
     "data": {
      "text/html": [
       "<table>\n",
       "<caption>A tibble: 6 × 10</caption>\n",
       "<thead>\n",
       "\t<tr><th scope=col>user</th><th scope=col>date_added</th><th scope=col>month_added</th><th scope=col>variable</th><th scope=col>value</th><th scope=col>month</th><th scope=col>action</th><th scope=col>avg_rech</th><th scope=col>rech_aug</th><th scope=col>candidate</th></tr>\n",
       "\t<tr><th scope=col>&lt;int&gt;</th><th scope=col>&lt;date&gt;</th><th scope=col>&lt;int&gt;</th><th scope=col>&lt;chr&gt;</th><th scope=col>&lt;dbl&gt;</th><th scope=col>&lt;int&gt;</th><th scope=col>&lt;chr&gt;</th><th scope=col>&lt;dbl&gt;</th><th scope=col>&lt;dbl&gt;</th><th scope=col>&lt;lgl&gt;</th></tr>\n",
       "</thead>\n",
       "<tbody>\n",
       "\t<tr><td> 2</td><td>2020-05-01</td><td>5</td><td>Recharge_May</td><td> 2.707692</td><td>5</td><td>Recharge</td><td> 0.8692308</td><td> 0.7692308</td><td>TRUE</td></tr>\n",
       "\t<tr><td> 3</td><td>2020-05-01</td><td>5</td><td>Recharge_May</td><td>37.893615</td><td>5</td><td>Recharge</td><td>28.4303123</td><td>29.7600769</td><td>TRUE</td></tr>\n",
       "\t<tr><td> 4</td><td>2020-05-01</td><td>5</td><td>Recharge_May</td><td> 8.923077</td><td>5</td><td>Recharge</td><td> 3.2081846</td><td> 0.7692308</td><td>TRUE</td></tr>\n",
       "\t<tr><td> 8</td><td>2020-05-01</td><td>5</td><td>Recharge_May</td><td> 3.846154</td><td>5</td><td>Recharge</td><td> 1.3514462</td><td> 0.7692308</td><td>TRUE</td></tr>\n",
       "\t<tr><td> 9</td><td>2020-05-01</td><td>5</td><td>Recharge_May</td><td>48.469231</td><td>5</td><td>Recharge</td><td>24.7231538</td><td>11.5384615</td><td>TRUE</td></tr>\n",
       "\t<tr><td>10</td><td>2020-05-01</td><td>5</td><td>Recharge_May</td><td> 5.384615</td><td>5</td><td>Recharge</td><td> 2.6654892</td><td> 3.5384615</td><td>TRUE</td></tr>\n",
       "</tbody>\n",
       "</table>\n"
      ],
      "text/latex": [
       "A tibble: 6 × 10\n",
       "\\begin{tabular}{llllllllll}\n",
       " user & date\\_added & month\\_added & variable & value & month & action & avg\\_rech & rech\\_aug & candidate\\\\\n",
       " <int> & <date> & <int> & <chr> & <dbl> & <int> & <chr> & <dbl> & <dbl> & <lgl>\\\\\n",
       "\\hline\n",
       "\t  2 & 2020-05-01 & 5 & Recharge\\_May &  2.707692 & 5 & Recharge &  0.8692308 &  0.7692308 & TRUE\\\\\n",
       "\t  3 & 2020-05-01 & 5 & Recharge\\_May & 37.893615 & 5 & Recharge & 28.4303123 & 29.7600769 & TRUE\\\\\n",
       "\t  4 & 2020-05-01 & 5 & Recharge\\_May &  8.923077 & 5 & Recharge &  3.2081846 &  0.7692308 & TRUE\\\\\n",
       "\t  8 & 2020-05-01 & 5 & Recharge\\_May &  3.846154 & 5 & Recharge &  1.3514462 &  0.7692308 & TRUE\\\\\n",
       "\t  9 & 2020-05-01 & 5 & Recharge\\_May & 48.469231 & 5 & Recharge & 24.7231538 & 11.5384615 & TRUE\\\\\n",
       "\t 10 & 2020-05-01 & 5 & Recharge\\_May &  5.384615 & 5 & Recharge &  2.6654892 &  3.5384615 & TRUE\\\\\n",
       "\\end{tabular}\n"
      ],
      "text/markdown": [
       "\n",
       "A tibble: 6 × 10\n",
       "\n",
       "| user &lt;int&gt; | date_added &lt;date&gt; | month_added &lt;int&gt; | variable &lt;chr&gt; | value &lt;dbl&gt; | month &lt;int&gt; | action &lt;chr&gt; | avg_rech &lt;dbl&gt; | rech_aug &lt;dbl&gt; | candidate &lt;lgl&gt; |\n",
       "|---|---|---|---|---|---|---|---|---|---|\n",
       "|  2 | 2020-05-01 | 5 | Recharge_May |  2.707692 | 5 | Recharge |  0.8692308 |  0.7692308 | TRUE |\n",
       "|  3 | 2020-05-01 | 5 | Recharge_May | 37.893615 | 5 | Recharge | 28.4303123 | 29.7600769 | TRUE |\n",
       "|  4 | 2020-05-01 | 5 | Recharge_May |  8.923077 | 5 | Recharge |  3.2081846 |  0.7692308 | TRUE |\n",
       "|  8 | 2020-05-01 | 5 | Recharge_May |  3.846154 | 5 | Recharge |  1.3514462 |  0.7692308 | TRUE |\n",
       "|  9 | 2020-05-01 | 5 | Recharge_May | 48.469231 | 5 | Recharge | 24.7231538 | 11.5384615 | TRUE |\n",
       "| 10 | 2020-05-01 | 5 | Recharge_May |  5.384615 | 5 | Recharge |  2.6654892 |  3.5384615 | TRUE |\n",
       "\n"
      ],
      "text/plain": [
       "  user date_added month_added variable     value     month action   avg_rech  \n",
       "1  2   2020-05-01 5           Recharge_May  2.707692 5     Recharge  0.8692308\n",
       "2  3   2020-05-01 5           Recharge_May 37.893615 5     Recharge 28.4303123\n",
       "3  4   2020-05-01 5           Recharge_May  8.923077 5     Recharge  3.2081846\n",
       "4  8   2020-05-01 5           Recharge_May  3.846154 5     Recharge  1.3514462\n",
       "5  9   2020-05-01 5           Recharge_May 48.469231 5     Recharge 24.7231538\n",
       "6 10   2020-05-01 5           Recharge_May  5.384615 5     Recharge  2.6654892\n",
       "  rech_aug   candidate\n",
       "1  0.7692308 TRUE     \n",
       "2 29.7600769 TRUE     \n",
       "3  0.7692308 TRUE     \n",
       "4  0.7692308 TRUE     \n",
       "5 11.5384615 TRUE     \n",
       "6  3.5384615 TRUE     "
      ]
     },
     "metadata": {},
     "output_type": "display_data"
    },
    {
     "name": "stdout",
     "output_type": "stream",
     "text": [
      "\n",
      "\n",
      "According to restrictions and assumpsions written, the campaign will reach 20284 users (equivalent to 31% of total subscribers in May). With this campaign, the company could receive USD 102711 per month for use (assuming constant usage recharge) and USD 507100 for selling 20284 cellphones."
     ]
    }
   ],
   "source": [
    "head(point_1_candidate)\n",
    "\n",
    "# Assuming Average Ticket if recharge in august was 0\n",
    "point_1_candidate$rech_aug[point_1_candidate$rech_aug == 0] <-  point_1_candidate$avg_rech[point_1_candidate$rech_aug == 0]\n",
    "\n",
    "#Increasing recharge in August by 15%\n",
    "point_1_candidate$rech_aug_15 <- point_1_candidate$rech_aug*1.15\n",
    "#Calculating Payback for cellphone \n",
    "point_1_candidate$payback <- 25/point_1_candidate$rech_aug_15\n",
    "\n",
    "cat(sprintf(\"\\n\\nAccording to restrictions and assumpsions written, the campaign will reach %.0f users (equivalent to %.0f%% of total subscribers in May). With this campaign, the company could receive USD %0.f per month for use (assuming constant usage recharge) and USD %0.f for selling %0.f cellphones.\", \n",
    "            nrow(point_1_candidate), \n",
    "            100*nrow(point_1_candidate)/nrow(data %>% filter(month_added==5, month == 5, action == \"Recharge\")),\n",
    "            sum(point_1_candidate$rech_aug_15),\n",
    "            25*nrow(point_1_candidate),\n",
    "            nrow(point_1_candidate)))"
   ]
  },
  {
   "cell_type": "code",
   "execution_count": 9,
   "metadata": {
    "jupyter": {
     "source_hidden": true
    }
   },
   "outputs": [
    {
     "name": "stdout",
     "output_type": "stream",
     "text": [
      "With those numbers, breakeven for company will take 5 months; \n",
      "but not all users (according to their recharges) will have a near payback for their phones. Some of them will need more than 2 years to have a breakeven\n",
      "\n",
      "Payback by month"
     ]
    },
    {
     "data": {
      "text/plain": [
       "\n",
       "   (0,6]   (6,12]  (12,18]  (18,24]  (24,30]  (30,36] (36,100] \n",
       "    7732     4445     3735      470     3770       40       92 "
      ]
     },
     "metadata": {},
     "output_type": "display_data"
    },
    {
     "data": {
      "image/png": "[encoded data removed]",
      "text/plain": [
       "Plot with title “Histogram of point_1_candidate$payback”"
      ]
     },
     "metadata": {
      "image/png": {
       "height": 420,
       "width": 420
      }
     },
     "output_type": "display_data"
    }
   ],
   "source": [
    "cat(sprintf(\"With those numbers, breakeven for company will take %0.f months; \n",
    "but not all users (according to their recharges) will have a near payback for their phones. Some of them will need more than 2 years to have a breakeven\\n\\n\",\n",
    "    25*nrow(point_1_candidate)/sum(point_1_candidate$rech_aug_15) ))\n",
    "cat(\"Payback by month\")\n",
    "table(cut(point_1_candidate$payback, c(0,6,12,18,24,30,36,100)))\n",
    "hist(point_1_candidate$payback)"
   ]
  },
  {
   "cell_type": "code",
   "execution_count": 10,
   "metadata": {
    "jupyter": {
     "source_hidden": true
    }
   },
   "outputs": [
    {
     "name": "stdout",
     "output_type": "stream",
     "text": [
      "Is recomended to only focus on those with a payback lower than 1 year. Under this scenario, campaign will reach 12177 users, with incomes for recharges near to USD 92147.64 and revenues for phone selling near to 304425 having its breakeven in 3 months"
     ]
    }
   ],
   "source": [
    "cat(sprintf(\"Is recomended to only focus on those with a payback lower than 1 year. Under this scenario, campaign will reach %.0f users, with incomes for recharges near to USD %.2f and revenues for phone selling near to %0.f having its breakeven in %.0f months\",\n",
    "            nrow(point_1_candidate[point_1_candidate$payback<12,]),\n",
    "            sum(point_1_candidate$rech_aug_15[point_1_candidate$payback<12]),\n",
    "            25*nrow(point_1_candidate[point_1_candidate$payback<12,]),\n",
    "           25*nrow(point_1_candidate[point_1_candidate$payback<12,])/sum(point_1_candidate$rech_aug_15[point_1_candidate$payback<12])\n",
    "           ))"
   ]
  },
  {
   "cell_type": "markdown",
   "metadata": {},
   "source": [
    "### 2) <strong>Customer degradation: </strong>\n",
    "For each of the activation cohorts, indicate how do active users an recharge value degradates through time."
   ]
  },
  {
   "cell_type": "code",
   "execution_count": 11,
   "metadata": {
    "jupyter": {
     "source_hidden": true
    }
   },
   "outputs": [
    {
     "name": "stderr",
     "output_type": "stream",
     "text": [
      "`summarise()` regrouping output by 'month_added' (override with `.groups` argument)\n",
      "\n"
     ]
    },
    {
     "data": {
      "text/html": [
       "<table>\n",
       "<caption>A tibble: 10 × 8</caption>\n",
       "<thead>\n",
       "\t<tr><th scope=col>month_added</th><th scope=col>month</th><th scope=col>count</th><th scope=col>start</th><th scope=col>no_change</th><th scope=col>increase</th><th scope=col>decrease</th><th scope=col>level</th></tr>\n",
       "\t<tr><th scope=col>&lt;int&gt;</th><th scope=col>&lt;int&gt;</th><th scope=col>&lt;int&gt;</th><th scope=col>&lt;int&gt;</th><th scope=col>&lt;int&gt;</th><th scope=col>&lt;int&gt;</th><th scope=col>&lt;int&gt;</th><th scope=col>&lt;int&gt;</th></tr>\n",
       "</thead>\n",
       "<tbody>\n",
       "\t<tr><td>5</td><td>5</td><td>64682</td><td>64682</td><td>   NA</td><td>   NA</td><td>   NA</td><td>0</td></tr>\n",
       "\t<tr><td>5</td><td>6</td><td>64682</td><td>    0</td><td> 2265</td><td>18047</td><td>44370</td><td>1</td></tr>\n",
       "\t<tr><td>5</td><td>7</td><td>64682</td><td>    0</td><td>19569</td><td>19807</td><td>25306</td><td>2</td></tr>\n",
       "\t<tr><td>5</td><td>8</td><td>64682</td><td>    0</td><td>26502</td><td>16938</td><td>21242</td><td>3</td></tr>\n",
       "\t<tr><td>6</td><td>6</td><td>60252</td><td>60252</td><td>   NA</td><td>   NA</td><td>   NA</td><td>0</td></tr>\n",
       "\t<tr><td>6</td><td>7</td><td>60252</td><td>    0</td><td> 2657</td><td>15534</td><td>42061</td><td>1</td></tr>\n",
       "\t<tr><td>6</td><td>8</td><td>60252</td><td>    0</td><td>20536</td><td>17367</td><td>22349</td><td>2</td></tr>\n",
       "\t<tr><td>7</td><td>7</td><td>53198</td><td>53198</td><td>   NA</td><td>   NA</td><td>   NA</td><td>0</td></tr>\n",
       "\t<tr><td>7</td><td>8</td><td>53198</td><td>    0</td><td> 2536</td><td>13183</td><td>37479</td><td>1</td></tr>\n",
       "\t<tr><td>8</td><td>8</td><td>47622</td><td>47622</td><td>   NA</td><td>   NA</td><td>   NA</td><td>0</td></tr>\n",
       "</tbody>\n",
       "</table>\n"
      ],
      "text/latex": [
       "A tibble: 10 × 8\n",
       "\\begin{tabular}{llllllll}\n",
       " month\\_added & month & count & start & no\\_change & increase & decrease & level\\\\\n",
       " <int> & <int> & <int> & <int> & <int> & <int> & <int> & <int>\\\\\n",
       "\\hline\n",
       "\t 5 & 5 & 64682 & 64682 &    NA &    NA &    NA & 0\\\\\n",
       "\t 5 & 6 & 64682 &     0 &  2265 & 18047 & 44370 & 1\\\\\n",
       "\t 5 & 7 & 64682 &     0 & 19569 & 19807 & 25306 & 2\\\\\n",
       "\t 5 & 8 & 64682 &     0 & 26502 & 16938 & 21242 & 3\\\\\n",
       "\t 6 & 6 & 60252 & 60252 &    NA &    NA &    NA & 0\\\\\n",
       "\t 6 & 7 & 60252 &     0 &  2657 & 15534 & 42061 & 1\\\\\n",
       "\t 6 & 8 & 60252 &     0 & 20536 & 17367 & 22349 & 2\\\\\n",
       "\t 7 & 7 & 53198 & 53198 &    NA &    NA &    NA & 0\\\\\n",
       "\t 7 & 8 & 53198 &     0 &  2536 & 13183 & 37479 & 1\\\\\n",
       "\t 8 & 8 & 47622 & 47622 &    NA &    NA &    NA & 0\\\\\n",
       "\\end{tabular}\n"
      ],
      "text/markdown": [
       "\n",
       "A tibble: 10 × 8\n",
       "\n",
       "| month_added &lt;int&gt; | month &lt;int&gt; | count &lt;int&gt; | start &lt;int&gt; | no_change &lt;int&gt; | increase &lt;int&gt; | decrease &lt;int&gt; | level &lt;int&gt; |\n",
       "|---|---|---|---|---|---|---|---|\n",
       "| 5 | 5 | 64682 | 64682 |    NA |    NA |    NA | 0 |\n",
       "| 5 | 6 | 64682 |     0 |  2265 | 18047 | 44370 | 1 |\n",
       "| 5 | 7 | 64682 |     0 | 19569 | 19807 | 25306 | 2 |\n",
       "| 5 | 8 | 64682 |     0 | 26502 | 16938 | 21242 | 3 |\n",
       "| 6 | 6 | 60252 | 60252 |    NA |    NA |    NA | 0 |\n",
       "| 6 | 7 | 60252 |     0 |  2657 | 15534 | 42061 | 1 |\n",
       "| 6 | 8 | 60252 |     0 | 20536 | 17367 | 22349 | 2 |\n",
       "| 7 | 7 | 53198 | 53198 |    NA |    NA |    NA | 0 |\n",
       "| 7 | 8 | 53198 |     0 |  2536 | 13183 | 37479 | 1 |\n",
       "| 8 | 8 | 47622 | 47622 |    NA |    NA |    NA | 0 |\n",
       "\n"
      ],
      "text/plain": [
       "   month_added month count start no_change increase decrease level\n",
       "1  5           5     64682 64682    NA        NA       NA    0    \n",
       "2  5           6     64682     0  2265     18047    44370    1    \n",
       "3  5           7     64682     0 19569     19807    25306    2    \n",
       "4  5           8     64682     0 26502     16938    21242    3    \n",
       "5  6           6     60252 60252    NA        NA       NA    0    \n",
       "6  6           7     60252     0  2657     15534    42061    1    \n",
       "7  6           8     60252     0 20536     17367    22349    2    \n",
       "8  7           7     53198 53198    NA        NA       NA    0    \n",
       "9  7           8     53198     0  2536     13183    37479    1    \n",
       "10 8           8     47622 47622    NA        NA       NA    0    "
      ]
     },
     "metadata": {},
     "output_type": "display_data"
    }
   ],
   "source": [
    "point_2 <- data %>% \n",
    "  filter(action == \"Recharge\",\n",
    "         month >= month_added) %>% \n",
    "  group_by(user) %>% \n",
    "  mutate(change=(value-lag(value))/lag(value)) %>%\n",
    "  ungroup()\n",
    "\n",
    "point_2$change[is.nan(point_2$change)] <- 0; point_2$change[is.infinite(point_2$change)] <- 1000 \n",
    "point_2$change_sign <- sign(point_2$change)\n",
    "\n",
    "point_2 %>% \n",
    "  group_by(month_added, month) %>% \n",
    "  summarise(count = n(),\n",
    "            start = sum(is.na(change_sign)),\n",
    "            no_change = sum(change_sign==0),\n",
    "            increase = sum(change_sign>0),\n",
    "            decrease = sum(change_sign<0)) %>%\n",
    "  ungroup() %>%\n",
    "  mutate(level = month-month_added)"
   ]
  },
  {
   "cell_type": "code",
   "execution_count": 12,
   "metadata": {
    "jupyter": {
     "source_hidden": true
    }
   },
   "outputs": [
    {
     "name": "stderr",
     "output_type": "stream",
     "text": [
      "`summarise()` regrouping output by 'month_added' (override with `.groups` argument)\n",
      "\n"
     ]
    },
    {
     "data": {
      "image/png": "[encoded data removed]",
      "text/plain": [
       "plot without title"
      ]
     },
     "metadata": {
      "image/png": {
       "height": 420,
       "width": 420
      }
     },
     "output_type": "display_data"
    }
   ],
   "source": [
    "data_graph <- point_2 %>% \n",
    "  group_by(month_added, month) %>% \n",
    "  summarise(count = n(),\n",
    "            start = sum(is.na(change_sign)),\n",
    "            increase = sum(change_sign>0),\n",
    "            decrease = sum(change_sign<=0)) %>% \n",
    "  ungroup() %>% \n",
    "  mutate(level = month-month_added,\n",
    "         perc_dec = decrease/count)\n",
    "\n",
    "data_graph$perc_dec[is.na(data_graph$perc_dec)] <- 0\n",
    "\n",
    "data_graph %>% \n",
    "  ggplot(aes(x=level,y=perc_dec, color = factor(month_added))) +\n",
    "  geom_line() + labs(y=\"Percentage of recharge decrease\", x = \"Maduration\", color = \"Cohort\") + \n",
    "  ggtitle(\"Degradation by Cohort\") \n"
   ]
  },
  {
   "cell_type": "markdown",
   "metadata": {},
   "source": [
    "As seen in harvest graph, all cohorts will have a reduction rate near to 72% after first month, before that, the curve seems to stabiliced between that number. Cases of non-change in the recharge were taken as decrease."
   ]
  },
  {
   "cell_type": "markdown",
   "metadata": {},
   "source": [
    "### 3) <strong>New CVP Impact:</strong>\n",
    "Using all activation cohorts and their August values, calculate de impact of launching the proposed CVP. Assume al users  are willing to spend an additional 10% on their recharge value. Assume al migrations are rational (users save money) and that the 30 days of the month need to be covered with an active plan. Whats the net impact of launching the proposed CVP? How many user will migrate to this new offer? How many are optimizers and how many are upsellers?\n",
    "\n",
    "<strong>New CVP Offer</strong>\n",
    "\n",
    "|Variable|Value|\n",
    "|---|---|\n",
    "|Price |8|\n",
    "|Validity (days)|6|\n",
    "|Minutes|300|\n",
    "|Data (Mb)|350|\n",
    "|Extra min|0.05|\n",
    "|Extra Mb|0.15|"
   ]
  },
  {
   "cell_type": "markdown",
   "metadata": {},
   "source": [
    "Evaluating 3 scenarios of possible migration (1. Users interested by data and minutes, 2. Users interested only in data - because minutes in CVP are enought, 3. Users interested only in Minutes - because data in CVP are enought)"
   ]
  },
  {
   "cell_type": "code",
   "execution_count": 13,
   "metadata": {
    "collapsed": true,
    "jupyter": {
     "outputs_hidden": true
    }
   },
   "outputs": [
    {
     "name": "stderr",
     "output_type": "stream",
     "text": [
      "Warning message:\n",
      "“`funs()` is deprecated as of dplyr 0.8.0.\n",
      "Please use a list of either functions or lambdas: \n",
      "\n",
      "  # Simple named list: \n",
      "  list(mean = mean, median = median)\n",
      "\n",
      "  # Auto named with `tibble::lst()`: \n",
      "  tibble::lst(mean, median)\n",
      "\n",
      "  # Using lambdas\n",
      "  list(~ mean(., trim = .2), ~ median(., na.rm = TRUE))\n",
      "\u001b[90mThis warning is displayed once every 8 hours.\u001b[39m\n",
      "\u001b[90mCall `lifecycle::last_warnings()` to see where this warning was generated.\u001b[39m”\n"
     ]
    }
   ],
   "source": [
    "CVP_new <- data.frame(ADPU = 350*5, MOU = 300*5, Price = 8*5, Data_Extra = 0.15, Minute_Extra = 0.05)\n",
    "\n",
    "point_3 <- data %>% \n",
    "  filter(month == 8) %>% \n",
    "  reshape2::dcast(id.var = c(\"user\", \"date_added\", \"month_added\"), formula = user ~ variable, value.var = \"value\") %>% \n",
    "  mutate_at(\"Recharge_August\", funs(.*1.10))"
   ]
  },
  {
   "cell_type": "code",
   "execution_count": 17,
   "metadata": {
    "jupyter": {
     "source_hidden": true
    }
   },
   "outputs": [
    {
     "name": "stdout",
     "output_type": "stream",
     "text": [
      "Scenario 1 \n",
      "We find 15 users that will be interested in this new plan because data and minute offers are better than prepaid plan, impacting incomes for company in USD 411 \n"
     ]
    },
    {
     "data": {
      "text/html": [
       "<table>\n",
       "<caption>A data.frame: 15 × 6</caption>\n",
       "<thead>\n",
       "\t<tr><th scope=col>user</th><th scope=col>ADPU_August</th><th scope=col>MOU_August</th><th scope=col>Recharge_August</th><th scope=col>Revenue_August</th><th scope=col>New_Price</th></tr>\n",
       "\t<tr><th scope=col>&lt;int&gt;</th><th scope=col>&lt;dbl&gt;</th><th scope=col>&lt;dbl&gt;</th><th scope=col>&lt;dbl&gt;</th><th scope=col>&lt;dbl&gt;</th><th scope=col>&lt;dbl&gt;</th></tr>\n",
       "</thead>\n",
       "<tbody>\n",
       "\t<tr><td>   548</td><td>1784.139</td><td>1606.617</td><td> 54.15385</td><td> 43.96629</td><td> 50.45164</td></tr>\n",
       "\t<tr><td>  5363</td><td>1846.427</td><td>2387.683</td><td> 76.15385</td><td> 49.41057</td><td> 98.84815</td></tr>\n",
       "\t<tr><td>  6597</td><td>1980.798</td><td>1638.983</td><td> 49.92308</td><td> 32.47615</td><td> 81.56882</td></tr>\n",
       "\t<tr><td> 14614</td><td>2269.587</td><td>1789.467</td><td> 82.01236</td><td> 71.81235</td><td>132.41135</td></tr>\n",
       "\t<tr><td> 16347</td><td>1819.137</td><td>1582.600</td><td> 34.12414</td><td> 31.45997</td><td> 54.50049</td></tr>\n",
       "\t<tr><td> 38572</td><td>1767.394</td><td>1640.983</td><td> 27.07692</td><td> 27.79445</td><td> 49.65824</td></tr>\n",
       "\t<tr><td> 46551</td><td>1815.566</td><td>1751.183</td><td> 66.49085</td><td> 28.34849</td><td> 62.39410</td></tr>\n",
       "\t<tr><td> 56150</td><td>1964.383</td><td>1759.200</td><td> 55.84615</td><td> 49.92215</td><td> 85.11743</td></tr>\n",
       "\t<tr><td> 58137</td><td>2223.086</td><td>1760.350</td><td> 61.76923</td><td> 67.38160</td><td>123.98047</td></tr>\n",
       "\t<tr><td> 63742</td><td>1798.167</td><td>1567.417</td><td> 49.38915</td><td> 41.30488</td><td> 50.59583</td></tr>\n",
       "\t<tr><td> 95316</td><td>2734.179</td><td>1574.617</td><td>193.73879</td><td>104.40672</td><td>191.35763</td></tr>\n",
       "\t<tr><td>100246</td><td>2120.367</td><td>1947.917</td><td>104.39618</td><td> 88.98079</td><td>117.95091</td></tr>\n",
       "\t<tr><td>105098</td><td>1775.482</td><td>1551.683</td><td> 14.38462</td><td> 33.55465</td><td> 46.40650</td></tr>\n",
       "\t<tr><td>119922</td><td>2220.164</td><td>2857.917</td><td> 94.74016</td><td> 87.13990</td><td>178.42046</td></tr>\n",
       "\t<tr><td>137680</td><td>1858.764</td><td>1682.733</td><td> 39.76923</td><td> 38.50368</td><td> 65.45127</td></tr>\n",
       "</tbody>\n",
       "</table>\n"
      ],
      "text/latex": [
       "A data.frame: 15 × 6\n",
       "\\begin{tabular}{llllll}\n",
       " user & ADPU\\_August & MOU\\_August & Recharge\\_August & Revenue\\_August & New\\_Price\\\\\n",
       " <int> & <dbl> & <dbl> & <dbl> & <dbl> & <dbl>\\\\\n",
       "\\hline\n",
       "\t    548 & 1784.139 & 1606.617 &  54.15385 &  43.96629 &  50.45164\\\\\n",
       "\t   5363 & 1846.427 & 2387.683 &  76.15385 &  49.41057 &  98.84815\\\\\n",
       "\t   6597 & 1980.798 & 1638.983 &  49.92308 &  32.47615 &  81.56882\\\\\n",
       "\t  14614 & 2269.587 & 1789.467 &  82.01236 &  71.81235 & 132.41135\\\\\n",
       "\t  16347 & 1819.137 & 1582.600 &  34.12414 &  31.45997 &  54.50049\\\\\n",
       "\t  38572 & 1767.394 & 1640.983 &  27.07692 &  27.79445 &  49.65824\\\\\n",
       "\t  46551 & 1815.566 & 1751.183 &  66.49085 &  28.34849 &  62.39410\\\\\n",
       "\t  56150 & 1964.383 & 1759.200 &  55.84615 &  49.92215 &  85.11743\\\\\n",
       "\t  58137 & 2223.086 & 1760.350 &  61.76923 &  67.38160 & 123.98047\\\\\n",
       "\t  63742 & 1798.167 & 1567.417 &  49.38915 &  41.30488 &  50.59583\\\\\n",
       "\t  95316 & 2734.179 & 1574.617 & 193.73879 & 104.40672 & 191.35763\\\\\n",
       "\t 100246 & 2120.367 & 1947.917 & 104.39618 &  88.98079 & 117.95091\\\\\n",
       "\t 105098 & 1775.482 & 1551.683 &  14.38462 &  33.55465 &  46.40650\\\\\n",
       "\t 119922 & 2220.164 & 2857.917 &  94.74016 &  87.13990 & 178.42046\\\\\n",
       "\t 137680 & 1858.764 & 1682.733 &  39.76923 &  38.50368 &  65.45127\\\\\n",
       "\\end{tabular}\n"
      ],
      "text/markdown": [
       "\n",
       "A data.frame: 15 × 6\n",
       "\n",
       "| user &lt;int&gt; | ADPU_August &lt;dbl&gt; | MOU_August &lt;dbl&gt; | Recharge_August &lt;dbl&gt; | Revenue_August &lt;dbl&gt; | New_Price &lt;dbl&gt; |\n",
       "|---|---|---|---|---|---|\n",
       "|    548 | 1784.139 | 1606.617 |  54.15385 |  43.96629 |  50.45164 |\n",
       "|   5363 | 1846.427 | 2387.683 |  76.15385 |  49.41057 |  98.84815 |\n",
       "|   6597 | 1980.798 | 1638.983 |  49.92308 |  32.47615 |  81.56882 |\n",
       "|  14614 | 2269.587 | 1789.467 |  82.01236 |  71.81235 | 132.41135 |\n",
       "|  16347 | 1819.137 | 1582.600 |  34.12414 |  31.45997 |  54.50049 |\n",
       "|  38572 | 1767.394 | 1640.983 |  27.07692 |  27.79445 |  49.65824 |\n",
       "|  46551 | 1815.566 | 1751.183 |  66.49085 |  28.34849 |  62.39410 |\n",
       "|  56150 | 1964.383 | 1759.200 |  55.84615 |  49.92215 |  85.11743 |\n",
       "|  58137 | 2223.086 | 1760.350 |  61.76923 |  67.38160 | 123.98047 |\n",
       "|  63742 | 1798.167 | 1567.417 |  49.38915 |  41.30488 |  50.59583 |\n",
       "|  95316 | 2734.179 | 1574.617 | 193.73879 | 104.40672 | 191.35763 |\n",
       "| 100246 | 2120.367 | 1947.917 | 104.39618 |  88.98079 | 117.95091 |\n",
       "| 105098 | 1775.482 | 1551.683 |  14.38462 |  33.55465 |  46.40650 |\n",
       "| 119922 | 2220.164 | 2857.917 |  94.74016 |  87.13990 | 178.42046 |\n",
       "| 137680 | 1858.764 | 1682.733 |  39.76923 |  38.50368 |  65.45127 |\n",
       "\n"
      ],
      "text/plain": [
       "   user   ADPU_August MOU_August Recharge_August Revenue_August New_Price\n",
       "1     548 1784.139    1606.617    54.15385        43.96629       50.45164\n",
       "2    5363 1846.427    2387.683    76.15385        49.41057       98.84815\n",
       "3    6597 1980.798    1638.983    49.92308        32.47615       81.56882\n",
       "4   14614 2269.587    1789.467    82.01236        71.81235      132.41135\n",
       "5   16347 1819.137    1582.600    34.12414        31.45997       54.50049\n",
       "6   38572 1767.394    1640.983    27.07692        27.79445       49.65824\n",
       "7   46551 1815.566    1751.183    66.49085        28.34849       62.39410\n",
       "8   56150 1964.383    1759.200    55.84615        49.92215       85.11743\n",
       "9   58137 2223.086    1760.350    61.76923        67.38160      123.98047\n",
       "10  63742 1798.167    1567.417    49.38915        41.30488       50.59583\n",
       "11  95316 2734.179    1574.617   193.73879       104.40672      191.35763\n",
       "12 100246 2120.367    1947.917   104.39618        88.98079      117.95091\n",
       "13 105098 1775.482    1551.683    14.38462        33.55465       46.40650\n",
       "14 119922 2220.164    2857.917    94.74016        87.13990      178.42046\n",
       "15 137680 1858.764    1682.733    39.76923        38.50368       65.45127"
      ]
     },
     "metadata": {},
     "output_type": "display_data"
    }
   ],
   "source": [
    "#1. Data and Minutes aren't enought\n",
    "point_3_1 <- point_3 %>% \n",
    "  mutate(New_Price = CVP_new$Price +\n",
    "           CVP_new$Data_Extra*sapply(point_3$ADPU_August-CVP_new$ADPU, max, 0) +\n",
    "           CVP_new$Minute_Extra* sapply(point_3$MOU_August-CVP_new$MOU, max, 0) \n",
    "  ) %>% \n",
    "  filter(\n",
    "    ADPU_August >= CVP_new$ADPU,\n",
    "         MOU_August >= CVP_new$MOU,\n",
    "         Recharge_August + Revenue_August >= New_Price)  \n",
    "cat(\"Scenario 1 \\n\")\n",
    "cat(sprintf(\"We find %0.f users that will be interested in this new plan because data and minute offers are better than prepaid plan, impacting incomes for company in USD %2.f \\n\",\n",
    "    nrow(point_3_1), sum(point_3_1$Revenue_August,point_3_1$Recharge_August, -point_3_1$New_Price) ))\n",
    "point_3_1 "
   ]
  },
  {
   "cell_type": "code",
   "execution_count": 19,
   "metadata": {
    "jupyter": {
     "source_hidden": true
    }
   },
   "outputs": [
    {
     "name": "stdout",
     "output_type": "stream",
     "text": [
      "Scenario 2:\n",
      "We find 137 users that will be interested in this new plan because data offers is better than prepaid plan, impacting incomes for company in USD 3511 \n"
     ]
    },
    {
     "data": {
      "text/html": [
       "<table>\n",
       "<caption>A data.frame: 137 × 6</caption>\n",
       "<thead>\n",
       "\t<tr><th scope=col>user</th><th scope=col>ADPU_August</th><th scope=col>MOU_August</th><th scope=col>Recharge_August</th><th scope=col>Revenue_August</th><th scope=col>New_Price</th></tr>\n",
       "\t<tr><th scope=col>&lt;int&gt;</th><th scope=col>&lt;dbl&gt;</th><th scope=col>&lt;dbl&gt;</th><th scope=col>&lt;dbl&gt;</th><th scope=col>&lt;dbl&gt;</th><th scope=col>&lt;dbl&gt;</th></tr>\n",
       "</thead>\n",
       "<tbody>\n",
       "\t<tr><td>  548</td><td>1784.139</td><td>1606.61667</td><td>54.15385</td><td>43.96629</td><td> 50.45164</td></tr>\n",
       "\t<tr><td> 1200</td><td>1773.618</td><td> 447.10000</td><td>25.38462</td><td>23.68794</td><td> 43.54267</td></tr>\n",
       "\t<tr><td> 1994</td><td>1750.784</td><td>  63.11667</td><td>33.84268</td><td>20.06735</td><td> 40.11766</td></tr>\n",
       "\t<tr><td> 2495</td><td>1751.525</td><td> 364.41667</td><td>38.92308</td><td>16.71990</td><td> 40.22876</td></tr>\n",
       "\t<tr><td> 4140</td><td>1796.793</td><td> 851.03333</td><td>54.15385</td><td>51.81587</td><td> 47.01889</td></tr>\n",
       "\t<tr><td> 4471</td><td>1766.762</td><td> 175.96667</td><td>32.37507</td><td>32.72993</td><td> 42.51437</td></tr>\n",
       "\t<tr><td> 5363</td><td>1846.427</td><td>2387.68333</td><td>76.15385</td><td>49.41057</td><td> 98.84815</td></tr>\n",
       "\t<tr><td> 5497</td><td>1873.744</td><td> 391.66667</td><td>33.78548</td><td>26.51494</td><td> 58.56164</td></tr>\n",
       "\t<tr><td> 6484</td><td>1905.768</td><td> 184.85000</td><td>32.15385</td><td>33.80969</td><td> 63.36521</td></tr>\n",
       "\t<tr><td> 6597</td><td>1980.798</td><td>1638.98333</td><td>49.92308</td><td>32.47615</td><td> 81.56882</td></tr>\n",
       "\t<tr><td>12304</td><td>1786.628</td><td> 712.68333</td><td>28.76923</td><td>40.18711</td><td> 45.49418</td></tr>\n",
       "\t<tr><td>12337</td><td>1764.349</td><td> 260.38333</td><td>25.38462</td><td>21.26807</td><td> 42.15234</td></tr>\n",
       "\t<tr><td>12539</td><td>2026.297</td><td> 262.53333</td><td>46.53846</td><td>38.98484</td><td> 81.44457</td></tr>\n",
       "\t<tr><td>13747</td><td>1762.130</td><td>1199.13333</td><td>33.50769</td><td>18.84615</td><td> 41.81949</td></tr>\n",
       "\t<tr><td>14614</td><td>2269.587</td><td>1789.46667</td><td>82.01236</td><td>71.81235</td><td>132.41135</td></tr>\n",
       "\t<tr><td>14787</td><td>1783.389</td><td> 430.10000</td><td>78.88972</td><td>63.67945</td><td> 45.00836</td></tr>\n",
       "\t<tr><td>15204</td><td>1774.970</td><td> 565.38333</td><td>85.79907</td><td>48.64398</td><td> 43.74553</td></tr>\n",
       "\t<tr><td>15217</td><td>1804.856</td><td> 268.01667</td><td>32.73747</td><td>17.45018</td><td> 48.22841</td></tr>\n",
       "\t<tr><td>16347</td><td>1819.137</td><td>1582.60000</td><td>34.12414</td><td>31.45997</td><td> 54.50049</td></tr>\n",
       "\t<tr><td>18080</td><td>1935.591</td><td> 324.58333</td><td>44.00000</td><td>35.07972</td><td> 67.83860</td></tr>\n",
       "\t<tr><td>18729</td><td>1987.018</td><td> 262.61667</td><td>41.46154</td><td>37.97124</td><td> 75.55276</td></tr>\n",
       "\t<tr><td>23146</td><td>1844.883</td><td> 183.95000</td><td>40.67588</td><td>17.72768</td><td> 54.23251</td></tr>\n",
       "\t<tr><td>25378</td><td>1874.330</td><td> 168.45000</td><td>36.54640</td><td>42.54102</td><td> 58.64949</td></tr>\n",
       "\t<tr><td>25433</td><td>2053.285</td><td>  38.96667</td><td>47.38462</td><td>42.63869</td><td> 85.49281</td></tr>\n",
       "\t<tr><td>25564</td><td>1786.923</td><td> 694.75000</td><td>46.53846</td><td>41.61586</td><td> 45.53844</td></tr>\n",
       "\t<tr><td>26163</td><td>1965.275</td><td> 171.43333</td><td>40.61538</td><td>35.34408</td><td> 72.29124</td></tr>\n",
       "\t<tr><td>26368</td><td>1783.903</td><td> 310.16667</td><td>20.96769</td><td>36.28762</td><td> 45.08552</td></tr>\n",
       "\t<tr><td>27290</td><td>1793.070</td><td> 622.38333</td><td>68.20000</td><td>88.79652</td><td> 46.46051</td></tr>\n",
       "\t<tr><td>28509</td><td>2206.669</td><td>  43.43333</td><td>57.53846</td><td>51.22415</td><td>108.50040</td></tr>\n",
       "\t<tr><td>29124</td><td>1928.144</td><td> 873.78333</td><td>49.07692</td><td>42.49243</td><td> 66.72165</td></tr>\n",
       "\t<tr><td>⋮</td><td>⋮</td><td>⋮</td><td>⋮</td><td>⋮</td><td>⋮</td></tr>\n",
       "\t<tr><td>108425</td><td>1822.428</td><td>1326.86667</td><td> 39.43077</td><td> 33.41033</td><td> 50.86419</td></tr>\n",
       "\t<tr><td>109737</td><td>1794.193</td><td> 343.93333</td><td> 35.53846</td><td> 29.81116</td><td> 46.62898</td></tr>\n",
       "\t<tr><td>110049</td><td>1886.958</td><td> 886.55000</td><td> 65.12161</td><td> 60.18525</td><td> 60.54373</td></tr>\n",
       "\t<tr><td>110312</td><td>2017.226</td><td>  56.40000</td><td> 53.30769</td><td> 48.50736</td><td> 80.08384</td></tr>\n",
       "\t<tr><td>112539</td><td>1756.352</td><td> 187.36667</td><td> 24.53846</td><td> 20.38472</td><td> 40.95287</td></tr>\n",
       "\t<tr><td>116320</td><td>1762.576</td><td> 115.85000</td><td> 26.23077</td><td> 24.57367</td><td> 41.88636</td></tr>\n",
       "\t<tr><td>116609</td><td>2171.912</td><td> 204.78333</td><td> 81.23077</td><td> 83.04213</td><td>103.28680</td></tr>\n",
       "\t<tr><td>118515</td><td>1843.314</td><td> 230.41667</td><td> 25.71173</td><td> 31.19599</td><td> 53.99704</td></tr>\n",
       "\t<tr><td>119922</td><td>2220.164</td><td>2857.91667</td><td> 94.74016</td><td> 87.13990</td><td>178.42046</td></tr>\n",
       "\t<tr><td>122043</td><td>1967.012</td><td>  56.46667</td><td> 39.68462</td><td> 33.58723</td><td> 72.55173</td></tr>\n",
       "\t<tr><td>123018</td><td>1756.827</td><td>  43.13333</td><td> 23.69231</td><td> 20.17143</td><td> 41.02408</td></tr>\n",
       "\t<tr><td>123130</td><td>1790.384</td><td>1272.20000</td><td> 31.80980</td><td> 24.90268</td><td> 46.05755</td></tr>\n",
       "\t<tr><td>123164</td><td>1827.629</td><td> 330.13333</td><td> 44.84615</td><td> 33.44212</td><td> 51.64429</td></tr>\n",
       "\t<tr><td>123343</td><td>1810.740</td><td> 582.98333</td><td> 27.92308</td><td> 24.23409</td><td> 49.11101</td></tr>\n",
       "\t<tr><td>123885</td><td>1812.971</td><td>  54.55000</td><td> 26.23077</td><td> 24.95400</td><td> 49.44565</td></tr>\n",
       "\t<tr><td>125959</td><td>1945.117</td><td> 323.60000</td><td> 67.63554</td><td> 38.89506</td><td> 69.26757</td></tr>\n",
       "\t<tr><td>126005</td><td>1957.012</td><td>  81.20000</td><td> 39.08926</td><td> 34.56406</td><td> 71.05179</td></tr>\n",
       "\t<tr><td>126463</td><td>1923.548</td><td> 425.70000</td><td> 87.15385</td><td> 80.46584</td><td> 66.03218</td></tr>\n",
       "\t<tr><td>128645</td><td>1784.831</td><td>1399.41667</td><td> 86.89281</td><td> 65.54932</td><td> 45.22460</td></tr>\n",
       "\t<tr><td>129536</td><td>2082.731</td><td> 772.70000</td><td> 51.75754</td><td> 44.58737</td><td> 89.90967</td></tr>\n",
       "\t<tr><td>130488</td><td>2396.125</td><td> 820.11667</td><td>125.70079</td><td>109.50106</td><td>136.91874</td></tr>\n",
       "\t<tr><td>130493</td><td>2042.425</td><td> 919.61667</td><td> 58.74728</td><td> 38.70917</td><td> 83.86380</td></tr>\n",
       "\t<tr><td>130907</td><td>1773.462</td><td>1030.61667</td><td> 26.23077</td><td> 23.96745</td><td> 43.51932</td></tr>\n",
       "\t<tr><td>131017</td><td>1850.655</td><td> 870.21667</td><td> 26.23077</td><td> 36.48592</td><td> 55.09831</td></tr>\n",
       "\t<tr><td>132483</td><td>2113.811</td><td> 564.66667</td><td> 65.66154</td><td> 42.39298</td><td> 94.57169</td></tr>\n",
       "\t<tr><td>134610</td><td>1782.233</td><td> 148.26667</td><td> 45.69231</td><td> 40.26689</td><td> 44.83490</td></tr>\n",
       "\t<tr><td>135352</td><td>1850.931</td><td>  71.41667</td><td> 25.88825</td><td> 31.31930</td><td> 55.13961</td></tr>\n",
       "\t<tr><td>135386</td><td>1766.761</td><td> 170.76667</td><td> 21.15385</td><td> 27.13288</td><td> 42.51417</td></tr>\n",
       "\t<tr><td>137680</td><td>1858.764</td><td>1682.73333</td><td> 39.76923</td><td> 38.50368</td><td> 65.45127</td></tr>\n",
       "\t<tr><td>137879</td><td>1866.320</td><td>  10.50000</td><td> 50.63689</td><td> 42.37959</td><td> 57.44804</td></tr>\n",
       "</tbody>\n",
       "</table>\n"
      ],
      "text/latex": [
       "A data.frame: 137 × 6\n",
       "\\begin{tabular}{llllll}\n",
       " user & ADPU\\_August & MOU\\_August & Recharge\\_August & Revenue\\_August & New\\_Price\\\\\n",
       " <int> & <dbl> & <dbl> & <dbl> & <dbl> & <dbl>\\\\\n",
       "\\hline\n",
       "\t   548 & 1784.139 & 1606.61667 & 54.15385 & 43.96629 &  50.45164\\\\\n",
       "\t  1200 & 1773.618 &  447.10000 & 25.38462 & 23.68794 &  43.54267\\\\\n",
       "\t  1994 & 1750.784 &   63.11667 & 33.84268 & 20.06735 &  40.11766\\\\\n",
       "\t  2495 & 1751.525 &  364.41667 & 38.92308 & 16.71990 &  40.22876\\\\\n",
       "\t  4140 & 1796.793 &  851.03333 & 54.15385 & 51.81587 &  47.01889\\\\\n",
       "\t  4471 & 1766.762 &  175.96667 & 32.37507 & 32.72993 &  42.51437\\\\\n",
       "\t  5363 & 1846.427 & 2387.68333 & 76.15385 & 49.41057 &  98.84815\\\\\n",
       "\t  5497 & 1873.744 &  391.66667 & 33.78548 & 26.51494 &  58.56164\\\\\n",
       "\t  6484 & 1905.768 &  184.85000 & 32.15385 & 33.80969 &  63.36521\\\\\n",
       "\t  6597 & 1980.798 & 1638.98333 & 49.92308 & 32.47615 &  81.56882\\\\\n",
       "\t 12304 & 1786.628 &  712.68333 & 28.76923 & 40.18711 &  45.49418\\\\\n",
       "\t 12337 & 1764.349 &  260.38333 & 25.38462 & 21.26807 &  42.15234\\\\\n",
       "\t 12539 & 2026.297 &  262.53333 & 46.53846 & 38.98484 &  81.44457\\\\\n",
       "\t 13747 & 1762.130 & 1199.13333 & 33.50769 & 18.84615 &  41.81949\\\\\n",
       "\t 14614 & 2269.587 & 1789.46667 & 82.01236 & 71.81235 & 132.41135\\\\\n",
       "\t 14787 & 1783.389 &  430.10000 & 78.88972 & 63.67945 &  45.00836\\\\\n",
       "\t 15204 & 1774.970 &  565.38333 & 85.79907 & 48.64398 &  43.74553\\\\\n",
       "\t 15217 & 1804.856 &  268.01667 & 32.73747 & 17.45018 &  48.22841\\\\\n",
       "\t 16347 & 1819.137 & 1582.60000 & 34.12414 & 31.45997 &  54.50049\\\\\n",
       "\t 18080 & 1935.591 &  324.58333 & 44.00000 & 35.07972 &  67.83860\\\\\n",
       "\t 18729 & 1987.018 &  262.61667 & 41.46154 & 37.97124 &  75.55276\\\\\n",
       "\t 23146 & 1844.883 &  183.95000 & 40.67588 & 17.72768 &  54.23251\\\\\n",
       "\t 25378 & 1874.330 &  168.45000 & 36.54640 & 42.54102 &  58.64949\\\\\n",
       "\t 25433 & 2053.285 &   38.96667 & 47.38462 & 42.63869 &  85.49281\\\\\n",
       "\t 25564 & 1786.923 &  694.75000 & 46.53846 & 41.61586 &  45.53844\\\\\n",
       "\t 26163 & 1965.275 &  171.43333 & 40.61538 & 35.34408 &  72.29124\\\\\n",
       "\t 26368 & 1783.903 &  310.16667 & 20.96769 & 36.28762 &  45.08552\\\\\n",
       "\t 27290 & 1793.070 &  622.38333 & 68.20000 & 88.79652 &  46.46051\\\\\n",
       "\t 28509 & 2206.669 &   43.43333 & 57.53846 & 51.22415 & 108.50040\\\\\n",
       "\t 29124 & 1928.144 &  873.78333 & 49.07692 & 42.49243 &  66.72165\\\\\n",
       "\t ⋮ & ⋮ & ⋮ & ⋮ & ⋮ & ⋮\\\\\n",
       "\t 108425 & 1822.428 & 1326.86667 &  39.43077 &  33.41033 &  50.86419\\\\\n",
       "\t 109737 & 1794.193 &  343.93333 &  35.53846 &  29.81116 &  46.62898\\\\\n",
       "\t 110049 & 1886.958 &  886.55000 &  65.12161 &  60.18525 &  60.54373\\\\\n",
       "\t 110312 & 2017.226 &   56.40000 &  53.30769 &  48.50736 &  80.08384\\\\\n",
       "\t 112539 & 1756.352 &  187.36667 &  24.53846 &  20.38472 &  40.95287\\\\\n",
       "\t 116320 & 1762.576 &  115.85000 &  26.23077 &  24.57367 &  41.88636\\\\\n",
       "\t 116609 & 2171.912 &  204.78333 &  81.23077 &  83.04213 & 103.28680\\\\\n",
       "\t 118515 & 1843.314 &  230.41667 &  25.71173 &  31.19599 &  53.99704\\\\\n",
       "\t 119922 & 2220.164 & 2857.91667 &  94.74016 &  87.13990 & 178.42046\\\\\n",
       "\t 122043 & 1967.012 &   56.46667 &  39.68462 &  33.58723 &  72.55173\\\\\n",
       "\t 123018 & 1756.827 &   43.13333 &  23.69231 &  20.17143 &  41.02408\\\\\n",
       "\t 123130 & 1790.384 & 1272.20000 &  31.80980 &  24.90268 &  46.05755\\\\\n",
       "\t 123164 & 1827.629 &  330.13333 &  44.84615 &  33.44212 &  51.64429\\\\\n",
       "\t 123343 & 1810.740 &  582.98333 &  27.92308 &  24.23409 &  49.11101\\\\\n",
       "\t 123885 & 1812.971 &   54.55000 &  26.23077 &  24.95400 &  49.44565\\\\\n",
       "\t 125959 & 1945.117 &  323.60000 &  67.63554 &  38.89506 &  69.26757\\\\\n",
       "\t 126005 & 1957.012 &   81.20000 &  39.08926 &  34.56406 &  71.05179\\\\\n",
       "\t 126463 & 1923.548 &  425.70000 &  87.15385 &  80.46584 &  66.03218\\\\\n",
       "\t 128645 & 1784.831 & 1399.41667 &  86.89281 &  65.54932 &  45.22460\\\\\n",
       "\t 129536 & 2082.731 &  772.70000 &  51.75754 &  44.58737 &  89.90967\\\\\n",
       "\t 130488 & 2396.125 &  820.11667 & 125.70079 & 109.50106 & 136.91874\\\\\n",
       "\t 130493 & 2042.425 &  919.61667 &  58.74728 &  38.70917 &  83.86380\\\\\n",
       "\t 130907 & 1773.462 & 1030.61667 &  26.23077 &  23.96745 &  43.51932\\\\\n",
       "\t 131017 & 1850.655 &  870.21667 &  26.23077 &  36.48592 &  55.09831\\\\\n",
       "\t 132483 & 2113.811 &  564.66667 &  65.66154 &  42.39298 &  94.57169\\\\\n",
       "\t 134610 & 1782.233 &  148.26667 &  45.69231 &  40.26689 &  44.83490\\\\\n",
       "\t 135352 & 1850.931 &   71.41667 &  25.88825 &  31.31930 &  55.13961\\\\\n",
       "\t 135386 & 1766.761 &  170.76667 &  21.15385 &  27.13288 &  42.51417\\\\\n",
       "\t 137680 & 1858.764 & 1682.73333 &  39.76923 &  38.50368 &  65.45127\\\\\n",
       "\t 137879 & 1866.320 &   10.50000 &  50.63689 &  42.37959 &  57.44804\\\\\n",
       "\\end{tabular}\n"
      ],
      "text/markdown": [
       "\n",
       "A data.frame: 137 × 6\n",
       "\n",
       "| user &lt;int&gt; | ADPU_August &lt;dbl&gt; | MOU_August &lt;dbl&gt; | Recharge_August &lt;dbl&gt; | Revenue_August &lt;dbl&gt; | New_Price &lt;dbl&gt; |\n",
       "|---|---|---|---|---|---|\n",
       "|   548 | 1784.139 | 1606.61667 | 54.15385 | 43.96629 |  50.45164 |\n",
       "|  1200 | 1773.618 |  447.10000 | 25.38462 | 23.68794 |  43.54267 |\n",
       "|  1994 | 1750.784 |   63.11667 | 33.84268 | 20.06735 |  40.11766 |\n",
       "|  2495 | 1751.525 |  364.41667 | 38.92308 | 16.71990 |  40.22876 |\n",
       "|  4140 | 1796.793 |  851.03333 | 54.15385 | 51.81587 |  47.01889 |\n",
       "|  4471 | 1766.762 |  175.96667 | 32.37507 | 32.72993 |  42.51437 |\n",
       "|  5363 | 1846.427 | 2387.68333 | 76.15385 | 49.41057 |  98.84815 |\n",
       "|  5497 | 1873.744 |  391.66667 | 33.78548 | 26.51494 |  58.56164 |\n",
       "|  6484 | 1905.768 |  184.85000 | 32.15385 | 33.80969 |  63.36521 |\n",
       "|  6597 | 1980.798 | 1638.98333 | 49.92308 | 32.47615 |  81.56882 |\n",
       "| 12304 | 1786.628 |  712.68333 | 28.76923 | 40.18711 |  45.49418 |\n",
       "| 12337 | 1764.349 |  260.38333 | 25.38462 | 21.26807 |  42.15234 |\n",
       "| 12539 | 2026.297 |  262.53333 | 46.53846 | 38.98484 |  81.44457 |\n",
       "| 13747 | 1762.130 | 1199.13333 | 33.50769 | 18.84615 |  41.81949 |\n",
       "| 14614 | 2269.587 | 1789.46667 | 82.01236 | 71.81235 | 132.41135 |\n",
       "| 14787 | 1783.389 |  430.10000 | 78.88972 | 63.67945 |  45.00836 |\n",
       "| 15204 | 1774.970 |  565.38333 | 85.79907 | 48.64398 |  43.74553 |\n",
       "| 15217 | 1804.856 |  268.01667 | 32.73747 | 17.45018 |  48.22841 |\n",
       "| 16347 | 1819.137 | 1582.60000 | 34.12414 | 31.45997 |  54.50049 |\n",
       "| 18080 | 1935.591 |  324.58333 | 44.00000 | 35.07972 |  67.83860 |\n",
       "| 18729 | 1987.018 |  262.61667 | 41.46154 | 37.97124 |  75.55276 |\n",
       "| 23146 | 1844.883 |  183.95000 | 40.67588 | 17.72768 |  54.23251 |\n",
       "| 25378 | 1874.330 |  168.45000 | 36.54640 | 42.54102 |  58.64949 |\n",
       "| 25433 | 2053.285 |   38.96667 | 47.38462 | 42.63869 |  85.49281 |\n",
       "| 25564 | 1786.923 |  694.75000 | 46.53846 | 41.61586 |  45.53844 |\n",
       "| 26163 | 1965.275 |  171.43333 | 40.61538 | 35.34408 |  72.29124 |\n",
       "| 26368 | 1783.903 |  310.16667 | 20.96769 | 36.28762 |  45.08552 |\n",
       "| 27290 | 1793.070 |  622.38333 | 68.20000 | 88.79652 |  46.46051 |\n",
       "| 28509 | 2206.669 |   43.43333 | 57.53846 | 51.22415 | 108.50040 |\n",
       "| 29124 | 1928.144 |  873.78333 | 49.07692 | 42.49243 |  66.72165 |\n",
       "| ⋮ | ⋮ | ⋮ | ⋮ | ⋮ | ⋮ |\n",
       "| 108425 | 1822.428 | 1326.86667 |  39.43077 |  33.41033 |  50.86419 |\n",
       "| 109737 | 1794.193 |  343.93333 |  35.53846 |  29.81116 |  46.62898 |\n",
       "| 110049 | 1886.958 |  886.55000 |  65.12161 |  60.18525 |  60.54373 |\n",
       "| 110312 | 2017.226 |   56.40000 |  53.30769 |  48.50736 |  80.08384 |\n",
       "| 112539 | 1756.352 |  187.36667 |  24.53846 |  20.38472 |  40.95287 |\n",
       "| 116320 | 1762.576 |  115.85000 |  26.23077 |  24.57367 |  41.88636 |\n",
       "| 116609 | 2171.912 |  204.78333 |  81.23077 |  83.04213 | 103.28680 |\n",
       "| 118515 | 1843.314 |  230.41667 |  25.71173 |  31.19599 |  53.99704 |\n",
       "| 119922 | 2220.164 | 2857.91667 |  94.74016 |  87.13990 | 178.42046 |\n",
       "| 122043 | 1967.012 |   56.46667 |  39.68462 |  33.58723 |  72.55173 |\n",
       "| 123018 | 1756.827 |   43.13333 |  23.69231 |  20.17143 |  41.02408 |\n",
       "| 123130 | 1790.384 | 1272.20000 |  31.80980 |  24.90268 |  46.05755 |\n",
       "| 123164 | 1827.629 |  330.13333 |  44.84615 |  33.44212 |  51.64429 |\n",
       "| 123343 | 1810.740 |  582.98333 |  27.92308 |  24.23409 |  49.11101 |\n",
       "| 123885 | 1812.971 |   54.55000 |  26.23077 |  24.95400 |  49.44565 |\n",
       "| 125959 | 1945.117 |  323.60000 |  67.63554 |  38.89506 |  69.26757 |\n",
       "| 126005 | 1957.012 |   81.20000 |  39.08926 |  34.56406 |  71.05179 |\n",
       "| 126463 | 1923.548 |  425.70000 |  87.15385 |  80.46584 |  66.03218 |\n",
       "| 128645 | 1784.831 | 1399.41667 |  86.89281 |  65.54932 |  45.22460 |\n",
       "| 129536 | 2082.731 |  772.70000 |  51.75754 |  44.58737 |  89.90967 |\n",
       "| 130488 | 2396.125 |  820.11667 | 125.70079 | 109.50106 | 136.91874 |\n",
       "| 130493 | 2042.425 |  919.61667 |  58.74728 |  38.70917 |  83.86380 |\n",
       "| 130907 | 1773.462 | 1030.61667 |  26.23077 |  23.96745 |  43.51932 |\n",
       "| 131017 | 1850.655 |  870.21667 |  26.23077 |  36.48592 |  55.09831 |\n",
       "| 132483 | 2113.811 |  564.66667 |  65.66154 |  42.39298 |  94.57169 |\n",
       "| 134610 | 1782.233 |  148.26667 |  45.69231 |  40.26689 |  44.83490 |\n",
       "| 135352 | 1850.931 |   71.41667 |  25.88825 |  31.31930 |  55.13961 |\n",
       "| 135386 | 1766.761 |  170.76667 |  21.15385 |  27.13288 |  42.51417 |\n",
       "| 137680 | 1858.764 | 1682.73333 |  39.76923 |  38.50368 |  65.45127 |\n",
       "| 137879 | 1866.320 |   10.50000 |  50.63689 |  42.37959 |  57.44804 |\n",
       "\n"
      ],
      "text/plain": [
       "    user   ADPU_August MOU_August Recharge_August Revenue_August New_Price\n",
       "1     548  1784.139    1606.61667 54.15385        43.96629        50.45164\n",
       "2    1200  1773.618     447.10000 25.38462        23.68794        43.54267\n",
       "3    1994  1750.784      63.11667 33.84268        20.06735        40.11766\n",
       "4    2495  1751.525     364.41667 38.92308        16.71990        40.22876\n",
       "5    4140  1796.793     851.03333 54.15385        51.81587        47.01889\n",
       "6    4471  1766.762     175.96667 32.37507        32.72993        42.51437\n",
       "7    5363  1846.427    2387.68333 76.15385        49.41057        98.84815\n",
       "8    5497  1873.744     391.66667 33.78548        26.51494        58.56164\n",
       "9    6484  1905.768     184.85000 32.15385        33.80969        63.36521\n",
       "10   6597  1980.798    1638.98333 49.92308        32.47615        81.56882\n",
       "11  12304  1786.628     712.68333 28.76923        40.18711        45.49418\n",
       "12  12337  1764.349     260.38333 25.38462        21.26807        42.15234\n",
       "13  12539  2026.297     262.53333 46.53846        38.98484        81.44457\n",
       "14  13747  1762.130    1199.13333 33.50769        18.84615        41.81949\n",
       "15  14614  2269.587    1789.46667 82.01236        71.81235       132.41135\n",
       "16  14787  1783.389     430.10000 78.88972        63.67945        45.00836\n",
       "17  15204  1774.970     565.38333 85.79907        48.64398        43.74553\n",
       "18  15217  1804.856     268.01667 32.73747        17.45018        48.22841\n",
       "19  16347  1819.137    1582.60000 34.12414        31.45997        54.50049\n",
       "20  18080  1935.591     324.58333 44.00000        35.07972        67.83860\n",
       "21  18729  1987.018     262.61667 41.46154        37.97124        75.55276\n",
       "22  23146  1844.883     183.95000 40.67588        17.72768        54.23251\n",
       "23  25378  1874.330     168.45000 36.54640        42.54102        58.64949\n",
       "24  25433  2053.285      38.96667 47.38462        42.63869        85.49281\n",
       "25  25564  1786.923     694.75000 46.53846        41.61586        45.53844\n",
       "26  26163  1965.275     171.43333 40.61538        35.34408        72.29124\n",
       "27  26368  1783.903     310.16667 20.96769        36.28762        45.08552\n",
       "28  27290  1793.070     622.38333 68.20000        88.79652        46.46051\n",
       "29  28509  2206.669      43.43333 57.53846        51.22415       108.50040\n",
       "30  29124  1928.144     873.78333 49.07692        42.49243        66.72165\n",
       "⋮   ⋮      ⋮           ⋮          ⋮               ⋮              ⋮        \n",
       "108 108425 1822.428    1326.86667  39.43077        33.41033       50.86419\n",
       "109 109737 1794.193     343.93333  35.53846        29.81116       46.62898\n",
       "110 110049 1886.958     886.55000  65.12161        60.18525       60.54373\n",
       "111 110312 2017.226      56.40000  53.30769        48.50736       80.08384\n",
       "112 112539 1756.352     187.36667  24.53846        20.38472       40.95287\n",
       "113 116320 1762.576     115.85000  26.23077        24.57367       41.88636\n",
       "114 116609 2171.912     204.78333  81.23077        83.04213      103.28680\n",
       "115 118515 1843.314     230.41667  25.71173        31.19599       53.99704\n",
       "116 119922 2220.164    2857.91667  94.74016        87.13990      178.42046\n",
       "117 122043 1967.012      56.46667  39.68462        33.58723       72.55173\n",
       "118 123018 1756.827      43.13333  23.69231        20.17143       41.02408\n",
       "119 123130 1790.384    1272.20000  31.80980        24.90268       46.05755\n",
       "120 123164 1827.629     330.13333  44.84615        33.44212       51.64429\n",
       "121 123343 1810.740     582.98333  27.92308        24.23409       49.11101\n",
       "122 123885 1812.971      54.55000  26.23077        24.95400       49.44565\n",
       "123 125959 1945.117     323.60000  67.63554        38.89506       69.26757\n",
       "124 126005 1957.012      81.20000  39.08926        34.56406       71.05179\n",
       "125 126463 1923.548     425.70000  87.15385        80.46584       66.03218\n",
       "126 128645 1784.831    1399.41667  86.89281        65.54932       45.22460\n",
       "127 129536 2082.731     772.70000  51.75754        44.58737       89.90967\n",
       "128 130488 2396.125     820.11667 125.70079       109.50106      136.91874\n",
       "129 130493 2042.425     919.61667  58.74728        38.70917       83.86380\n",
       "130 130907 1773.462    1030.61667  26.23077        23.96745       43.51932\n",
       "131 131017 1850.655     870.21667  26.23077        36.48592       55.09831\n",
       "132 132483 2113.811     564.66667  65.66154        42.39298       94.57169\n",
       "133 134610 1782.233     148.26667  45.69231        40.26689       44.83490\n",
       "134 135352 1850.931      71.41667  25.88825        31.31930       55.13961\n",
       "135 135386 1766.761     170.76667  21.15385        27.13288       42.51417\n",
       "136 137680 1858.764    1682.73333  39.76923        38.50368       65.45127\n",
       "137 137879 1866.320      10.50000  50.63689        42.37959       57.44804"
      ]
     },
     "metadata": {},
     "output_type": "display_data"
    }
   ],
   "source": [
    "#1. Data is't enought\n",
    "point_3_2 <- point_3 %>% \n",
    "  mutate(New_Price = CVP_new$Price +\n",
    "           CVP_new$Data_Extra*sapply(point_3$ADPU_August-CVP_new$ADPU, max, 0) +\n",
    "           CVP_new$Minute_Extra* sapply(point_3$MOU_August-CVP_new$MOU, max, 0) \n",
    "  ) %>% \n",
    "  filter(\n",
    "    ADPU_August >= CVP_new$ADPU,\n",
    "         Recharge_August + Revenue_August >= New_Price)  \n",
    "cat(\"Scenario 2:\\n\")\n",
    "cat(sprintf(\"We find %0.f users that will be interested in this new plan because data offers is better than prepaid plan, impacting incomes for company in USD %2.f \\n\",\n",
    "    nrow(point_3_2), sum(point_3_2$Revenue_August,point_3_2$Recharge_August, -point_3_2$New_Price) ))\n",
    "point_3_2"
   ]
  },
  {
   "cell_type": "code",
   "execution_count": 20,
   "metadata": {
    "jupyter": {
     "source_hidden": true
    }
   },
   "outputs": [
    {
     "name": "stdout",
     "output_type": "stream",
     "text": [
      "Scenario 3: \n",
      "We find 354 users that will be interested in this new plan because data offers is better than prepaid plan, impacting incomes for company in USD 12948 \n"
     ]
    },
    {
     "data": {
      "text/html": [
       "<table>\n",
       "<caption>A data.frame: 354 × 6</caption>\n",
       "<thead>\n",
       "\t<tr><th scope=col>user</th><th scope=col>ADPU_August</th><th scope=col>MOU_August</th><th scope=col>Recharge_August</th><th scope=col>Revenue_August</th><th scope=col>New_Price</th></tr>\n",
       "\t<tr><th scope=col>&lt;int&gt;</th><th scope=col>&lt;dbl&gt;</th><th scope=col>&lt;dbl&gt;</th><th scope=col>&lt;dbl&gt;</th><th scope=col>&lt;dbl&gt;</th><th scope=col>&lt;dbl&gt;</th></tr>\n",
       "</thead>\n",
       "<tbody>\n",
       "\t<tr><td>  548</td><td>1.784139e+03</td><td>1606.617</td><td>54.15385</td><td>43.96629</td><td> 50.45164</td></tr>\n",
       "\t<tr><td>  899</td><td>5.136501e+02</td><td>1608.100</td><td>33.00000</td><td>30.14163</td><td> 45.40500</td></tr>\n",
       "\t<tr><td> 2939</td><td>2.576955e+02</td><td>2104.633</td><td>54.32308</td><td>48.24596</td><td> 70.23167</td></tr>\n",
       "\t<tr><td> 4563</td><td>0.000000e+00</td><td>1591.367</td><td>37.55468</td><td>31.09977</td><td> 44.56833</td></tr>\n",
       "\t<tr><td> 4691</td><td>0.000000e+00</td><td>1742.033</td><td>89.69231</td><td>80.75863</td><td> 52.10167</td></tr>\n",
       "\t<tr><td> 5363</td><td>1.846427e+03</td><td>2387.683</td><td>76.15385</td><td>49.41057</td><td> 98.84815</td></tr>\n",
       "\t<tr><td> 5644</td><td>8.424748e+01</td><td>1521.000</td><td>33.62827</td><td>16.14216</td><td> 41.05000</td></tr>\n",
       "\t<tr><td> 5749</td><td>0.000000e+00</td><td>2813.983</td><td>60.07692</td><td>45.89530</td><td>105.69917</td></tr>\n",
       "\t<tr><td> 5926</td><td>0.000000e+00</td><td>2004.017</td><td>50.85503</td><td>27.78539</td><td> 65.20083</td></tr>\n",
       "\t<tr><td> 6597</td><td>1.980798e+03</td><td>1638.983</td><td>49.92308</td><td>32.47615</td><td> 81.56882</td></tr>\n",
       "\t<tr><td> 8038</td><td>4.632967e+02</td><td>1561.533</td><td>33.84615</td><td>18.54175</td><td> 43.07667</td></tr>\n",
       "\t<tr><td> 8456</td><td>4.513960e+02</td><td>1556.483</td><td>27.24615</td><td>25.03900</td><td> 42.82417</td></tr>\n",
       "\t<tr><td>10504</td><td>0.000000e+00</td><td>1501.533</td><td>25.38462</td><td>19.35311</td><td> 40.07667</td></tr>\n",
       "\t<tr><td>11463</td><td>1.047818e+02</td><td>1776.583</td><td>28.76923</td><td>25.38489</td><td> 53.82917</td></tr>\n",
       "\t<tr><td>14614</td><td>2.269587e+03</td><td>1789.467</td><td>82.01236</td><td>71.81235</td><td>132.41135</td></tr>\n",
       "\t<tr><td>15011</td><td>4.983502e+02</td><td>2001.500</td><td>33.84615</td><td>34.01486</td><td> 65.07500</td></tr>\n",
       "\t<tr><td>16112</td><td>1.686290e+03</td><td>1661.067</td><td>33.84615</td><td>14.64894</td><td> 48.05333</td></tr>\n",
       "\t<tr><td>16347</td><td>1.819137e+03</td><td>1582.600</td><td>34.12414</td><td>31.45997</td><td> 54.50049</td></tr>\n",
       "\t<tr><td>16396</td><td>0.000000e+00</td><td>1531.983</td><td>33.84615</td><td>28.78561</td><td> 41.59917</td></tr>\n",
       "\t<tr><td>17216</td><td>1.796605e+02</td><td>1643.833</td><td>77.10526</td><td>46.75073</td><td> 47.19167</td></tr>\n",
       "\t<tr><td>17671</td><td>1.704038e+02</td><td>2000.167</td><td>35.18460</td><td>32.79662</td><td> 65.00833</td></tr>\n",
       "\t<tr><td>18124</td><td>1.977995e-02</td><td>1725.100</td><td>37.23077</td><td>33.84641</td><td> 51.25500</td></tr>\n",
       "\t<tr><td>18686</td><td>1.934960e-02</td><td>1761.117</td><td>29.19231</td><td>26.53826</td><td> 53.05583</td></tr>\n",
       "\t<tr><td>18894</td><td>3.305335e-02</td><td>1633.783</td><td>43.84608</td><td>51.91549</td><td> 46.68917</td></tr>\n",
       "\t<tr><td>20000</td><td>6.576707e+02</td><td>1660.217</td><td>74.46154</td><td>43.44733</td><td> 48.01083</td></tr>\n",
       "\t<tr><td>20359</td><td>4.230078e+01</td><td>1514.717</td><td>35.70769</td><td>36.80870</td><td> 40.73583</td></tr>\n",
       "\t<tr><td>21143</td><td>1.283084e+03</td><td>1578.067</td><td>25.38462</td><td>21.45019</td><td> 43.90333</td></tr>\n",
       "\t<tr><td>21314</td><td>8.611103e+02</td><td>2066.733</td><td>33.84615</td><td>58.36069</td><td> 68.33667</td></tr>\n",
       "\t<tr><td>22056</td><td>1.032069e+03</td><td>1680.167</td><td>31.30769</td><td>24.16337</td><td> 49.00833</td></tr>\n",
       "\t<tr><td>22462</td><td>0.000000e+00</td><td>1851.600</td><td>38.07692</td><td>39.14688</td><td> 57.58000</td></tr>\n",
       "\t<tr><td>⋮</td><td>⋮</td><td>⋮</td><td>⋮</td><td>⋮</td><td>⋮</td></tr>\n",
       "\t<tr><td>187453</td><td>0</td><td>1517.733</td><td> 36.38462</td><td> 33.028216</td><td> 40.88667</td></tr>\n",
       "\t<tr><td>188094</td><td>0</td><td>1635.883</td><td> 36.99224</td><td> 26.879758</td><td> 46.79417</td></tr>\n",
       "\t<tr><td>190007</td><td>0</td><td>1680.650</td><td> 46.87692</td><td> 11.646162</td><td> 49.03250</td></tr>\n",
       "\t<tr><td>190730</td><td>0</td><td>1881.933</td><td> 29.61538</td><td> 36.769231</td><td> 59.09667</td></tr>\n",
       "\t<tr><td>191008</td><td>0</td><td>1543.450</td><td> 38.92308</td><td> 24.973659</td><td> 42.17250</td></tr>\n",
       "\t<tr><td>191056</td><td>0</td><td>1615.900</td><td> 32.92846</td><td> 26.304031</td><td> 45.79500</td></tr>\n",
       "\t<tr><td>192212</td><td>0</td><td>1823.667</td><td> 50.76923</td><td> 13.168816</td><td> 56.18333</td></tr>\n",
       "\t<tr><td>193568</td><td>0</td><td>1558.933</td><td> 47.21098</td><td> 48.315040</td><td> 42.94667</td></tr>\n",
       "\t<tr><td>193675</td><td>0</td><td>2248.817</td><td> 86.34069</td><td> 78.660725</td><td> 77.44083</td></tr>\n",
       "\t<tr><td>193680</td><td>0</td><td>1735.150</td><td> 59.20522</td><td> 54.053426</td><td> 51.75750</td></tr>\n",
       "\t<tr><td>195560</td><td>0</td><td>1670.250</td><td> 62.77268</td><td> 53.859773</td><td> 48.51250</td></tr>\n",
       "\t<tr><td>195755</td><td>0</td><td>2142.200</td><td> 99.49754</td><td> 90.451770</td><td> 72.11000</td></tr>\n",
       "\t<tr><td>195758</td><td>0</td><td>2882.017</td><td>136.50061</td><td>124.090883</td><td>109.10083</td></tr>\n",
       "\t<tr><td>196436</td><td>0</td><td>3055.750</td><td> 75.81538</td><td> 79.527125</td><td>117.78750</td></tr>\n",
       "\t<tr><td>197036</td><td>0</td><td>2019.883</td><td>298.12674</td><td>269.034993</td><td> 65.99417</td></tr>\n",
       "\t<tr><td>197253</td><td>0</td><td>2258.167</td><td> 62.80599</td><td> 51.561050</td><td> 77.90833</td></tr>\n",
       "\t<tr><td>199222</td><td>0</td><td>3591.033</td><td> 89.99087</td><td> 55.705154</td><td>144.55167</td></tr>\n",
       "\t<tr><td>200014</td><td>0</td><td>1929.250</td><td> 97.85287</td><td> 89.182355</td><td> 61.46250</td></tr>\n",
       "\t<tr><td>200015</td><td>0</td><td>2110.767</td><td>109.36488</td><td> 99.449795</td><td> 70.53833</td></tr>\n",
       "\t<tr><td>200017</td><td>0</td><td>2272.250</td><td>115.94330</td><td>105.558807</td><td> 78.61250</td></tr>\n",
       "\t<tr><td>200018</td><td>0</td><td>2066.783</td><td>107.72038</td><td> 96.685055</td><td> 68.33917</td></tr>\n",
       "\t<tr><td>200020</td><td>0</td><td>1514.967</td><td> 81.40694</td><td> 70.247463</td><td> 40.74833</td></tr>\n",
       "\t<tr><td>200022</td><td>0</td><td>1540.367</td><td> 79.76244</td><td> 72.741396</td><td> 42.01833</td></tr>\n",
       "\t<tr><td>200030</td><td>0</td><td>1735.917</td><td> 90.45232</td><td> 81.653411</td><td> 51.79583</td></tr>\n",
       "\t<tr><td>200187</td><td>0</td><td>1723.100</td><td> 48.23077</td><td> 12.699847</td><td> 51.15500</td></tr>\n",
       "\t<tr><td>201348</td><td>0</td><td>2035.550</td><td>106.89808</td><td> 96.317814</td><td> 66.77750</td></tr>\n",
       "\t<tr><td>202517</td><td>0</td><td>1620.750</td><td> 53.79998</td><td> 33.356033</td><td> 46.03750</td></tr>\n",
       "\t<tr><td>202734</td><td>0</td><td>2066.200</td><td> 37.81750</td><td> 36.722281</td><td> 68.31000</td></tr>\n",
       "\t<tr><td>205041</td><td>0</td><td>1597.567</td><td> 50.93567</td><td>  8.543079</td><td> 44.87833</td></tr>\n",
       "\t<tr><td>205591</td><td>0</td><td>1699.533</td><td> 33.33389</td><td> 36.922942</td><td> 49.97667</td></tr>\n",
       "</tbody>\n",
       "</table>\n"
      ],
      "text/latex": [
       "A data.frame: 354 × 6\n",
       "\\begin{tabular}{llllll}\n",
       " user & ADPU\\_August & MOU\\_August & Recharge\\_August & Revenue\\_August & New\\_Price\\\\\n",
       " <int> & <dbl> & <dbl> & <dbl> & <dbl> & <dbl>\\\\\n",
       "\\hline\n",
       "\t   548 & 1.784139e+03 & 1606.617 & 54.15385 & 43.96629 &  50.45164\\\\\n",
       "\t   899 & 5.136501e+02 & 1608.100 & 33.00000 & 30.14163 &  45.40500\\\\\n",
       "\t  2939 & 2.576955e+02 & 2104.633 & 54.32308 & 48.24596 &  70.23167\\\\\n",
       "\t  4563 & 0.000000e+00 & 1591.367 & 37.55468 & 31.09977 &  44.56833\\\\\n",
       "\t  4691 & 0.000000e+00 & 1742.033 & 89.69231 & 80.75863 &  52.10167\\\\\n",
       "\t  5363 & 1.846427e+03 & 2387.683 & 76.15385 & 49.41057 &  98.84815\\\\\n",
       "\t  5644 & 8.424748e+01 & 1521.000 & 33.62827 & 16.14216 &  41.05000\\\\\n",
       "\t  5749 & 0.000000e+00 & 2813.983 & 60.07692 & 45.89530 & 105.69917\\\\\n",
       "\t  5926 & 0.000000e+00 & 2004.017 & 50.85503 & 27.78539 &  65.20083\\\\\n",
       "\t  6597 & 1.980798e+03 & 1638.983 & 49.92308 & 32.47615 &  81.56882\\\\\n",
       "\t  8038 & 4.632967e+02 & 1561.533 & 33.84615 & 18.54175 &  43.07667\\\\\n",
       "\t  8456 & 4.513960e+02 & 1556.483 & 27.24615 & 25.03900 &  42.82417\\\\\n",
       "\t 10504 & 0.000000e+00 & 1501.533 & 25.38462 & 19.35311 &  40.07667\\\\\n",
       "\t 11463 & 1.047818e+02 & 1776.583 & 28.76923 & 25.38489 &  53.82917\\\\\n",
       "\t 14614 & 2.269587e+03 & 1789.467 & 82.01236 & 71.81235 & 132.41135\\\\\n",
       "\t 15011 & 4.983502e+02 & 2001.500 & 33.84615 & 34.01486 &  65.07500\\\\\n",
       "\t 16112 & 1.686290e+03 & 1661.067 & 33.84615 & 14.64894 &  48.05333\\\\\n",
       "\t 16347 & 1.819137e+03 & 1582.600 & 34.12414 & 31.45997 &  54.50049\\\\\n",
       "\t 16396 & 0.000000e+00 & 1531.983 & 33.84615 & 28.78561 &  41.59917\\\\\n",
       "\t 17216 & 1.796605e+02 & 1643.833 & 77.10526 & 46.75073 &  47.19167\\\\\n",
       "\t 17671 & 1.704038e+02 & 2000.167 & 35.18460 & 32.79662 &  65.00833\\\\\n",
       "\t 18124 & 1.977995e-02 & 1725.100 & 37.23077 & 33.84641 &  51.25500\\\\\n",
       "\t 18686 & 1.934960e-02 & 1761.117 & 29.19231 & 26.53826 &  53.05583\\\\\n",
       "\t 18894 & 3.305335e-02 & 1633.783 & 43.84608 & 51.91549 &  46.68917\\\\\n",
       "\t 20000 & 6.576707e+02 & 1660.217 & 74.46154 & 43.44733 &  48.01083\\\\\n",
       "\t 20359 & 4.230078e+01 & 1514.717 & 35.70769 & 36.80870 &  40.73583\\\\\n",
       "\t 21143 & 1.283084e+03 & 1578.067 & 25.38462 & 21.45019 &  43.90333\\\\\n",
       "\t 21314 & 8.611103e+02 & 2066.733 & 33.84615 & 58.36069 &  68.33667\\\\\n",
       "\t 22056 & 1.032069e+03 & 1680.167 & 31.30769 & 24.16337 &  49.00833\\\\\n",
       "\t 22462 & 0.000000e+00 & 1851.600 & 38.07692 & 39.14688 &  57.58000\\\\\n",
       "\t ⋮ & ⋮ & ⋮ & ⋮ & ⋮ & ⋮\\\\\n",
       "\t 187453 & 0 & 1517.733 &  36.38462 &  33.028216 &  40.88667\\\\\n",
       "\t 188094 & 0 & 1635.883 &  36.99224 &  26.879758 &  46.79417\\\\\n",
       "\t 190007 & 0 & 1680.650 &  46.87692 &  11.646162 &  49.03250\\\\\n",
       "\t 190730 & 0 & 1881.933 &  29.61538 &  36.769231 &  59.09667\\\\\n",
       "\t 191008 & 0 & 1543.450 &  38.92308 &  24.973659 &  42.17250\\\\\n",
       "\t 191056 & 0 & 1615.900 &  32.92846 &  26.304031 &  45.79500\\\\\n",
       "\t 192212 & 0 & 1823.667 &  50.76923 &  13.168816 &  56.18333\\\\\n",
       "\t 193568 & 0 & 1558.933 &  47.21098 &  48.315040 &  42.94667\\\\\n",
       "\t 193675 & 0 & 2248.817 &  86.34069 &  78.660725 &  77.44083\\\\\n",
       "\t 193680 & 0 & 1735.150 &  59.20522 &  54.053426 &  51.75750\\\\\n",
       "\t 195560 & 0 & 1670.250 &  62.77268 &  53.859773 &  48.51250\\\\\n",
       "\t 195755 & 0 & 2142.200 &  99.49754 &  90.451770 &  72.11000\\\\\n",
       "\t 195758 & 0 & 2882.017 & 136.50061 & 124.090883 & 109.10083\\\\\n",
       "\t 196436 & 0 & 3055.750 &  75.81538 &  79.527125 & 117.78750\\\\\n",
       "\t 197036 & 0 & 2019.883 & 298.12674 & 269.034993 &  65.99417\\\\\n",
       "\t 197253 & 0 & 2258.167 &  62.80599 &  51.561050 &  77.90833\\\\\n",
       "\t 199222 & 0 & 3591.033 &  89.99087 &  55.705154 & 144.55167\\\\\n",
       "\t 200014 & 0 & 1929.250 &  97.85287 &  89.182355 &  61.46250\\\\\n",
       "\t 200015 & 0 & 2110.767 & 109.36488 &  99.449795 &  70.53833\\\\\n",
       "\t 200017 & 0 & 2272.250 & 115.94330 & 105.558807 &  78.61250\\\\\n",
       "\t 200018 & 0 & 2066.783 & 107.72038 &  96.685055 &  68.33917\\\\\n",
       "\t 200020 & 0 & 1514.967 &  81.40694 &  70.247463 &  40.74833\\\\\n",
       "\t 200022 & 0 & 1540.367 &  79.76244 &  72.741396 &  42.01833\\\\\n",
       "\t 200030 & 0 & 1735.917 &  90.45232 &  81.653411 &  51.79583\\\\\n",
       "\t 200187 & 0 & 1723.100 &  48.23077 &  12.699847 &  51.15500\\\\\n",
       "\t 201348 & 0 & 2035.550 & 106.89808 &  96.317814 &  66.77750\\\\\n",
       "\t 202517 & 0 & 1620.750 &  53.79998 &  33.356033 &  46.03750\\\\\n",
       "\t 202734 & 0 & 2066.200 &  37.81750 &  36.722281 &  68.31000\\\\\n",
       "\t 205041 & 0 & 1597.567 &  50.93567 &   8.543079 &  44.87833\\\\\n",
       "\t 205591 & 0 & 1699.533 &  33.33389 &  36.922942 &  49.97667\\\\\n",
       "\\end{tabular}\n"
      ],
      "text/markdown": [
       "\n",
       "A data.frame: 354 × 6\n",
       "\n",
       "| user &lt;int&gt; | ADPU_August &lt;dbl&gt; | MOU_August &lt;dbl&gt; | Recharge_August &lt;dbl&gt; | Revenue_August &lt;dbl&gt; | New_Price &lt;dbl&gt; |\n",
       "|---|---|---|---|---|---|\n",
       "|   548 | 1.784139e+03 | 1606.617 | 54.15385 | 43.96629 |  50.45164 |\n",
       "|   899 | 5.136501e+02 | 1608.100 | 33.00000 | 30.14163 |  45.40500 |\n",
       "|  2939 | 2.576955e+02 | 2104.633 | 54.32308 | 48.24596 |  70.23167 |\n",
       "|  4563 | 0.000000e+00 | 1591.367 | 37.55468 | 31.09977 |  44.56833 |\n",
       "|  4691 | 0.000000e+00 | 1742.033 | 89.69231 | 80.75863 |  52.10167 |\n",
       "|  5363 | 1.846427e+03 | 2387.683 | 76.15385 | 49.41057 |  98.84815 |\n",
       "|  5644 | 8.424748e+01 | 1521.000 | 33.62827 | 16.14216 |  41.05000 |\n",
       "|  5749 | 0.000000e+00 | 2813.983 | 60.07692 | 45.89530 | 105.69917 |\n",
       "|  5926 | 0.000000e+00 | 2004.017 | 50.85503 | 27.78539 |  65.20083 |\n",
       "|  6597 | 1.980798e+03 | 1638.983 | 49.92308 | 32.47615 |  81.56882 |\n",
       "|  8038 | 4.632967e+02 | 1561.533 | 33.84615 | 18.54175 |  43.07667 |\n",
       "|  8456 | 4.513960e+02 | 1556.483 | 27.24615 | 25.03900 |  42.82417 |\n",
       "| 10504 | 0.000000e+00 | 1501.533 | 25.38462 | 19.35311 |  40.07667 |\n",
       "| 11463 | 1.047818e+02 | 1776.583 | 28.76923 | 25.38489 |  53.82917 |\n",
       "| 14614 | 2.269587e+03 | 1789.467 | 82.01236 | 71.81235 | 132.41135 |\n",
       "| 15011 | 4.983502e+02 | 2001.500 | 33.84615 | 34.01486 |  65.07500 |\n",
       "| 16112 | 1.686290e+03 | 1661.067 | 33.84615 | 14.64894 |  48.05333 |\n",
       "| 16347 | 1.819137e+03 | 1582.600 | 34.12414 | 31.45997 |  54.50049 |\n",
       "| 16396 | 0.000000e+00 | 1531.983 | 33.84615 | 28.78561 |  41.59917 |\n",
       "| 17216 | 1.796605e+02 | 1643.833 | 77.10526 | 46.75073 |  47.19167 |\n",
       "| 17671 | 1.704038e+02 | 2000.167 | 35.18460 | 32.79662 |  65.00833 |\n",
       "| 18124 | 1.977995e-02 | 1725.100 | 37.23077 | 33.84641 |  51.25500 |\n",
       "| 18686 | 1.934960e-02 | 1761.117 | 29.19231 | 26.53826 |  53.05583 |\n",
       "| 18894 | 3.305335e-02 | 1633.783 | 43.84608 | 51.91549 |  46.68917 |\n",
       "| 20000 | 6.576707e+02 | 1660.217 | 74.46154 | 43.44733 |  48.01083 |\n",
       "| 20359 | 4.230078e+01 | 1514.717 | 35.70769 | 36.80870 |  40.73583 |\n",
       "| 21143 | 1.283084e+03 | 1578.067 | 25.38462 | 21.45019 |  43.90333 |\n",
       "| 21314 | 8.611103e+02 | 2066.733 | 33.84615 | 58.36069 |  68.33667 |\n",
       "| 22056 | 1.032069e+03 | 1680.167 | 31.30769 | 24.16337 |  49.00833 |\n",
       "| 22462 | 0.000000e+00 | 1851.600 | 38.07692 | 39.14688 |  57.58000 |\n",
       "| ⋮ | ⋮ | ⋮ | ⋮ | ⋮ | ⋮ |\n",
       "| 187453 | 0 | 1517.733 |  36.38462 |  33.028216 |  40.88667 |\n",
       "| 188094 | 0 | 1635.883 |  36.99224 |  26.879758 |  46.79417 |\n",
       "| 190007 | 0 | 1680.650 |  46.87692 |  11.646162 |  49.03250 |\n",
       "| 190730 | 0 | 1881.933 |  29.61538 |  36.769231 |  59.09667 |\n",
       "| 191008 | 0 | 1543.450 |  38.92308 |  24.973659 |  42.17250 |\n",
       "| 191056 | 0 | 1615.900 |  32.92846 |  26.304031 |  45.79500 |\n",
       "| 192212 | 0 | 1823.667 |  50.76923 |  13.168816 |  56.18333 |\n",
       "| 193568 | 0 | 1558.933 |  47.21098 |  48.315040 |  42.94667 |\n",
       "| 193675 | 0 | 2248.817 |  86.34069 |  78.660725 |  77.44083 |\n",
       "| 193680 | 0 | 1735.150 |  59.20522 |  54.053426 |  51.75750 |\n",
       "| 195560 | 0 | 1670.250 |  62.77268 |  53.859773 |  48.51250 |\n",
       "| 195755 | 0 | 2142.200 |  99.49754 |  90.451770 |  72.11000 |\n",
       "| 195758 | 0 | 2882.017 | 136.50061 | 124.090883 | 109.10083 |\n",
       "| 196436 | 0 | 3055.750 |  75.81538 |  79.527125 | 117.78750 |\n",
       "| 197036 | 0 | 2019.883 | 298.12674 | 269.034993 |  65.99417 |\n",
       "| 197253 | 0 | 2258.167 |  62.80599 |  51.561050 |  77.90833 |\n",
       "| 199222 | 0 | 3591.033 |  89.99087 |  55.705154 | 144.55167 |\n",
       "| 200014 | 0 | 1929.250 |  97.85287 |  89.182355 |  61.46250 |\n",
       "| 200015 | 0 | 2110.767 | 109.36488 |  99.449795 |  70.53833 |\n",
       "| 200017 | 0 | 2272.250 | 115.94330 | 105.558807 |  78.61250 |\n",
       "| 200018 | 0 | 2066.783 | 107.72038 |  96.685055 |  68.33917 |\n",
       "| 200020 | 0 | 1514.967 |  81.40694 |  70.247463 |  40.74833 |\n",
       "| 200022 | 0 | 1540.367 |  79.76244 |  72.741396 |  42.01833 |\n",
       "| 200030 | 0 | 1735.917 |  90.45232 |  81.653411 |  51.79583 |\n",
       "| 200187 | 0 | 1723.100 |  48.23077 |  12.699847 |  51.15500 |\n",
       "| 201348 | 0 | 2035.550 | 106.89808 |  96.317814 |  66.77750 |\n",
       "| 202517 | 0 | 1620.750 |  53.79998 |  33.356033 |  46.03750 |\n",
       "| 202734 | 0 | 2066.200 |  37.81750 |  36.722281 |  68.31000 |\n",
       "| 205041 | 0 | 1597.567 |  50.93567 |   8.543079 |  44.87833 |\n",
       "| 205591 | 0 | 1699.533 |  33.33389 |  36.922942 |  49.97667 |\n",
       "\n"
      ],
      "text/plain": [
       "    user   ADPU_August  MOU_August Recharge_August Revenue_August New_Price\n",
       "1     548  1.784139e+03 1606.617   54.15385        43.96629        50.45164\n",
       "2     899  5.136501e+02 1608.100   33.00000        30.14163        45.40500\n",
       "3    2939  2.576955e+02 2104.633   54.32308        48.24596        70.23167\n",
       "4    4563  0.000000e+00 1591.367   37.55468        31.09977        44.56833\n",
       "5    4691  0.000000e+00 1742.033   89.69231        80.75863        52.10167\n",
       "6    5363  1.846427e+03 2387.683   76.15385        49.41057        98.84815\n",
       "7    5644  8.424748e+01 1521.000   33.62827        16.14216        41.05000\n",
       "8    5749  0.000000e+00 2813.983   60.07692        45.89530       105.69917\n",
       "9    5926  0.000000e+00 2004.017   50.85503        27.78539        65.20083\n",
       "10   6597  1.980798e+03 1638.983   49.92308        32.47615        81.56882\n",
       "11   8038  4.632967e+02 1561.533   33.84615        18.54175        43.07667\n",
       "12   8456  4.513960e+02 1556.483   27.24615        25.03900        42.82417\n",
       "13  10504  0.000000e+00 1501.533   25.38462        19.35311        40.07667\n",
       "14  11463  1.047818e+02 1776.583   28.76923        25.38489        53.82917\n",
       "15  14614  2.269587e+03 1789.467   82.01236        71.81235       132.41135\n",
       "16  15011  4.983502e+02 2001.500   33.84615        34.01486        65.07500\n",
       "17  16112  1.686290e+03 1661.067   33.84615        14.64894        48.05333\n",
       "18  16347  1.819137e+03 1582.600   34.12414        31.45997        54.50049\n",
       "19  16396  0.000000e+00 1531.983   33.84615        28.78561        41.59917\n",
       "20  17216  1.796605e+02 1643.833   77.10526        46.75073        47.19167\n",
       "21  17671  1.704038e+02 2000.167   35.18460        32.79662        65.00833\n",
       "22  18124  1.977995e-02 1725.100   37.23077        33.84641        51.25500\n",
       "23  18686  1.934960e-02 1761.117   29.19231        26.53826        53.05583\n",
       "24  18894  3.305335e-02 1633.783   43.84608        51.91549        46.68917\n",
       "25  20000  6.576707e+02 1660.217   74.46154        43.44733        48.01083\n",
       "26  20359  4.230078e+01 1514.717   35.70769        36.80870        40.73583\n",
       "27  21143  1.283084e+03 1578.067   25.38462        21.45019        43.90333\n",
       "28  21314  8.611103e+02 2066.733   33.84615        58.36069        68.33667\n",
       "29  22056  1.032069e+03 1680.167   31.30769        24.16337        49.00833\n",
       "30  22462  0.000000e+00 1851.600   38.07692        39.14688        57.58000\n",
       "⋮   ⋮      ⋮            ⋮          ⋮               ⋮              ⋮        \n",
       "325 187453 0            1517.733    36.38462        33.028216      40.88667\n",
       "326 188094 0            1635.883    36.99224        26.879758      46.79417\n",
       "327 190007 0            1680.650    46.87692        11.646162      49.03250\n",
       "328 190730 0            1881.933    29.61538        36.769231      59.09667\n",
       "329 191008 0            1543.450    38.92308        24.973659      42.17250\n",
       "330 191056 0            1615.900    32.92846        26.304031      45.79500\n",
       "331 192212 0            1823.667    50.76923        13.168816      56.18333\n",
       "332 193568 0            1558.933    47.21098        48.315040      42.94667\n",
       "333 193675 0            2248.817    86.34069        78.660725      77.44083\n",
       "334 193680 0            1735.150    59.20522        54.053426      51.75750\n",
       "335 195560 0            1670.250    62.77268        53.859773      48.51250\n",
       "336 195755 0            2142.200    99.49754        90.451770      72.11000\n",
       "337 195758 0            2882.017   136.50061       124.090883     109.10083\n",
       "338 196436 0            3055.750    75.81538        79.527125     117.78750\n",
       "339 197036 0            2019.883   298.12674       269.034993      65.99417\n",
       "340 197253 0            2258.167    62.80599        51.561050      77.90833\n",
       "341 199222 0            3591.033    89.99087        55.705154     144.55167\n",
       "342 200014 0            1929.250    97.85287        89.182355      61.46250\n",
       "343 200015 0            2110.767   109.36488        99.449795      70.53833\n",
       "344 200017 0            2272.250   115.94330       105.558807      78.61250\n",
       "345 200018 0            2066.783   107.72038        96.685055      68.33917\n",
       "346 200020 0            1514.967    81.40694        70.247463      40.74833\n",
       "347 200022 0            1540.367    79.76244        72.741396      42.01833\n",
       "348 200030 0            1735.917    90.45232        81.653411      51.79583\n",
       "349 200187 0            1723.100    48.23077        12.699847      51.15500\n",
       "350 201348 0            2035.550   106.89808        96.317814      66.77750\n",
       "351 202517 0            1620.750    53.79998        33.356033      46.03750\n",
       "352 202734 0            2066.200    37.81750        36.722281      68.31000\n",
       "353 205041 0            1597.567    50.93567         8.543079      44.87833\n",
       "354 205591 0            1699.533    33.33389        36.922942      49.97667"
      ]
     },
     "metadata": {},
     "output_type": "display_data"
    }
   ],
   "source": [
    "#1. Minutes aren't enought\n",
    "point_3_3 <- point_3 %>% \n",
    "  mutate(New_Price = CVP_new$Price +\n",
    "           CVP_new$Data_Extra*sapply(point_3$ADPU_August-CVP_new$ADPU, max, 0) +\n",
    "           CVP_new$Minute_Extra* sapply(point_3$MOU_August-CVP_new$MOU, max, 0) \n",
    "  ) %>% \n",
    "  filter(\n",
    "    MOU_August >= CVP_new$MOU,\n",
    "         Recharge_August + Revenue_August >= New_Price)  \n",
    "\n",
    "cat(\"Scenario 3: \\n\")\n",
    "cat(sprintf(\"We find %0.f users that will be interested in this new plan because data offers is better than prepaid plan, impacting incomes for company in USD %2.f \\n\",\n",
    "    nrow(point_3_3), sum(point_3_3$Revenue_August,point_3_3$Recharge_August, -point_3_3$New_Price) ))\n",
    "point_3_3"
   ]
  },
  {
   "cell_type": "code",
   "execution_count": 22,
   "metadata": {
    "jupyter": {
     "source_hidden": true
    }
   },
   "outputs": [
    {
     "name": "stdout",
     "output_type": "stream",
     "text": [
      "Joining scenarios: \n",
      "Grouping 3 possible scenarios,  476 users will be interested in CVP, impacting incomes for company in USD 16047 \n"
     ]
    },
    {
     "data": {
      "text/html": [
       "<table>\n",
       "<caption>A data.frame: 476 × 6</caption>\n",
       "<thead>\n",
       "\t<tr><th scope=col>user</th><th scope=col>ADPU_August</th><th scope=col>MOU_August</th><th scope=col>Recharge_August</th><th scope=col>Revenue_August</th><th scope=col>New_Price</th></tr>\n",
       "\t<tr><th scope=col>&lt;int&gt;</th><th scope=col>&lt;dbl&gt;</th><th scope=col>&lt;dbl&gt;</th><th scope=col>&lt;dbl&gt;</th><th scope=col>&lt;dbl&gt;</th><th scope=col>&lt;dbl&gt;</th></tr>\n",
       "</thead>\n",
       "<tbody>\n",
       "\t<tr><td>   548</td><td>1784.139</td><td>1606.61667</td><td> 54.15385</td><td> 43.96629</td><td> 50.45164</td></tr>\n",
       "\t<tr><td>  5363</td><td>1846.427</td><td>2387.68333</td><td> 76.15385</td><td> 49.41057</td><td> 98.84815</td></tr>\n",
       "\t<tr><td>  6597</td><td>1980.798</td><td>1638.98333</td><td> 49.92308</td><td> 32.47615</td><td> 81.56882</td></tr>\n",
       "\t<tr><td> 14614</td><td>2269.587</td><td>1789.46667</td><td> 82.01236</td><td> 71.81235</td><td>132.41135</td></tr>\n",
       "\t<tr><td> 16347</td><td>1819.137</td><td>1582.60000</td><td> 34.12414</td><td> 31.45997</td><td> 54.50049</td></tr>\n",
       "\t<tr><td> 38572</td><td>1767.394</td><td>1640.98333</td><td> 27.07692</td><td> 27.79445</td><td> 49.65824</td></tr>\n",
       "\t<tr><td> 46551</td><td>1815.566</td><td>1751.18333</td><td> 66.49085</td><td> 28.34849</td><td> 62.39410</td></tr>\n",
       "\t<tr><td> 56150</td><td>1964.383</td><td>1759.20000</td><td> 55.84615</td><td> 49.92215</td><td> 85.11743</td></tr>\n",
       "\t<tr><td> 58137</td><td>2223.086</td><td>1760.35000</td><td> 61.76923</td><td> 67.38160</td><td>123.98047</td></tr>\n",
       "\t<tr><td> 63742</td><td>1798.167</td><td>1567.41667</td><td> 49.38915</td><td> 41.30488</td><td> 50.59583</td></tr>\n",
       "\t<tr><td> 95316</td><td>2734.179</td><td>1574.61667</td><td>193.73879</td><td>104.40672</td><td>191.35763</td></tr>\n",
       "\t<tr><td>100246</td><td>2120.367</td><td>1947.91667</td><td>104.39618</td><td> 88.98079</td><td>117.95091</td></tr>\n",
       "\t<tr><td>105098</td><td>1775.482</td><td>1551.68333</td><td> 14.38462</td><td> 33.55465</td><td> 46.40650</td></tr>\n",
       "\t<tr><td>119922</td><td>2220.164</td><td>2857.91667</td><td> 94.74016</td><td> 87.13990</td><td>178.42046</td></tr>\n",
       "\t<tr><td>137680</td><td>1858.764</td><td>1682.73333</td><td> 39.76923</td><td> 38.50368</td><td> 65.45127</td></tr>\n",
       "\t<tr><td>  1200</td><td>1773.618</td><td> 447.10000</td><td> 25.38462</td><td> 23.68794</td><td> 43.54267</td></tr>\n",
       "\t<tr><td>  1994</td><td>1750.784</td><td>  63.11667</td><td> 33.84268</td><td> 20.06735</td><td> 40.11766</td></tr>\n",
       "\t<tr><td>  2495</td><td>1751.525</td><td> 364.41667</td><td> 38.92308</td><td> 16.71990</td><td> 40.22876</td></tr>\n",
       "\t<tr><td>  4140</td><td>1796.793</td><td> 851.03333</td><td> 54.15385</td><td> 51.81587</td><td> 47.01889</td></tr>\n",
       "\t<tr><td>  4471</td><td>1766.762</td><td> 175.96667</td><td> 32.37507</td><td> 32.72993</td><td> 42.51437</td></tr>\n",
       "\t<tr><td>  5497</td><td>1873.744</td><td> 391.66667</td><td> 33.78548</td><td> 26.51494</td><td> 58.56164</td></tr>\n",
       "\t<tr><td>  6484</td><td>1905.768</td><td> 184.85000</td><td> 32.15385</td><td> 33.80969</td><td> 63.36521</td></tr>\n",
       "\t<tr><td> 12304</td><td>1786.628</td><td> 712.68333</td><td> 28.76923</td><td> 40.18711</td><td> 45.49418</td></tr>\n",
       "\t<tr><td> 12337</td><td>1764.349</td><td> 260.38333</td><td> 25.38462</td><td> 21.26807</td><td> 42.15234</td></tr>\n",
       "\t<tr><td> 12539</td><td>2026.297</td><td> 262.53333</td><td> 46.53846</td><td> 38.98484</td><td> 81.44457</td></tr>\n",
       "\t<tr><td> 13747</td><td>1762.130</td><td>1199.13333</td><td> 33.50769</td><td> 18.84615</td><td> 41.81949</td></tr>\n",
       "\t<tr><td> 14787</td><td>1783.389</td><td> 430.10000</td><td> 78.88972</td><td> 63.67945</td><td> 45.00836</td></tr>\n",
       "\t<tr><td> 15204</td><td>1774.970</td><td> 565.38333</td><td> 85.79907</td><td> 48.64398</td><td> 43.74553</td></tr>\n",
       "\t<tr><td> 15217</td><td>1804.856</td><td> 268.01667</td><td> 32.73747</td><td> 17.45018</td><td> 48.22841</td></tr>\n",
       "\t<tr><td> 18080</td><td>1935.591</td><td> 324.58333</td><td> 44.00000</td><td> 35.07972</td><td> 67.83860</td></tr>\n",
       "\t<tr><td>⋮</td><td>⋮</td><td>⋮</td><td>⋮</td><td>⋮</td><td>⋮</td></tr>\n",
       "\t<tr><td>187453</td><td>0</td><td>1517.733</td><td> 36.38462</td><td> 33.028216</td><td> 40.88667</td></tr>\n",
       "\t<tr><td>188094</td><td>0</td><td>1635.883</td><td> 36.99224</td><td> 26.879758</td><td> 46.79417</td></tr>\n",
       "\t<tr><td>190007</td><td>0</td><td>1680.650</td><td> 46.87692</td><td> 11.646162</td><td> 49.03250</td></tr>\n",
       "\t<tr><td>190730</td><td>0</td><td>1881.933</td><td> 29.61538</td><td> 36.769231</td><td> 59.09667</td></tr>\n",
       "\t<tr><td>191008</td><td>0</td><td>1543.450</td><td> 38.92308</td><td> 24.973659</td><td> 42.17250</td></tr>\n",
       "\t<tr><td>191056</td><td>0</td><td>1615.900</td><td> 32.92846</td><td> 26.304031</td><td> 45.79500</td></tr>\n",
       "\t<tr><td>192212</td><td>0</td><td>1823.667</td><td> 50.76923</td><td> 13.168816</td><td> 56.18333</td></tr>\n",
       "\t<tr><td>193568</td><td>0</td><td>1558.933</td><td> 47.21098</td><td> 48.315040</td><td> 42.94667</td></tr>\n",
       "\t<tr><td>193675</td><td>0</td><td>2248.817</td><td> 86.34069</td><td> 78.660725</td><td> 77.44083</td></tr>\n",
       "\t<tr><td>193680</td><td>0</td><td>1735.150</td><td> 59.20522</td><td> 54.053426</td><td> 51.75750</td></tr>\n",
       "\t<tr><td>195560</td><td>0</td><td>1670.250</td><td> 62.77268</td><td> 53.859773</td><td> 48.51250</td></tr>\n",
       "\t<tr><td>195755</td><td>0</td><td>2142.200</td><td> 99.49754</td><td> 90.451770</td><td> 72.11000</td></tr>\n",
       "\t<tr><td>195758</td><td>0</td><td>2882.017</td><td>136.50061</td><td>124.090883</td><td>109.10083</td></tr>\n",
       "\t<tr><td>196436</td><td>0</td><td>3055.750</td><td> 75.81538</td><td> 79.527125</td><td>117.78750</td></tr>\n",
       "\t<tr><td>197036</td><td>0</td><td>2019.883</td><td>298.12674</td><td>269.034993</td><td> 65.99417</td></tr>\n",
       "\t<tr><td>197253</td><td>0</td><td>2258.167</td><td> 62.80599</td><td> 51.561050</td><td> 77.90833</td></tr>\n",
       "\t<tr><td>199222</td><td>0</td><td>3591.033</td><td> 89.99087</td><td> 55.705154</td><td>144.55167</td></tr>\n",
       "\t<tr><td>200014</td><td>0</td><td>1929.250</td><td> 97.85287</td><td> 89.182355</td><td> 61.46250</td></tr>\n",
       "\t<tr><td>200015</td><td>0</td><td>2110.767</td><td>109.36488</td><td> 99.449795</td><td> 70.53833</td></tr>\n",
       "\t<tr><td>200017</td><td>0</td><td>2272.250</td><td>115.94330</td><td>105.558807</td><td> 78.61250</td></tr>\n",
       "\t<tr><td>200018</td><td>0</td><td>2066.783</td><td>107.72038</td><td> 96.685055</td><td> 68.33917</td></tr>\n",
       "\t<tr><td>200020</td><td>0</td><td>1514.967</td><td> 81.40694</td><td> 70.247463</td><td> 40.74833</td></tr>\n",
       "\t<tr><td>200022</td><td>0</td><td>1540.367</td><td> 79.76244</td><td> 72.741396</td><td> 42.01833</td></tr>\n",
       "\t<tr><td>200030</td><td>0</td><td>1735.917</td><td> 90.45232</td><td> 81.653411</td><td> 51.79583</td></tr>\n",
       "\t<tr><td>200187</td><td>0</td><td>1723.100</td><td> 48.23077</td><td> 12.699847</td><td> 51.15500</td></tr>\n",
       "\t<tr><td>201348</td><td>0</td><td>2035.550</td><td>106.89808</td><td> 96.317814</td><td> 66.77750</td></tr>\n",
       "\t<tr><td>202517</td><td>0</td><td>1620.750</td><td> 53.79998</td><td> 33.356033</td><td> 46.03750</td></tr>\n",
       "\t<tr><td>202734</td><td>0</td><td>2066.200</td><td> 37.81750</td><td> 36.722281</td><td> 68.31000</td></tr>\n",
       "\t<tr><td>205041</td><td>0</td><td>1597.567</td><td> 50.93567</td><td>  8.543079</td><td> 44.87833</td></tr>\n",
       "\t<tr><td>205591</td><td>0</td><td>1699.533</td><td> 33.33389</td><td> 36.922942</td><td> 49.97667</td></tr>\n",
       "</tbody>\n",
       "</table>\n"
      ],
      "text/latex": [
       "A data.frame: 476 × 6\n",
       "\\begin{tabular}{llllll}\n",
       " user & ADPU\\_August & MOU\\_August & Recharge\\_August & Revenue\\_August & New\\_Price\\\\\n",
       " <int> & <dbl> & <dbl> & <dbl> & <dbl> & <dbl>\\\\\n",
       "\\hline\n",
       "\t    548 & 1784.139 & 1606.61667 &  54.15385 &  43.96629 &  50.45164\\\\\n",
       "\t   5363 & 1846.427 & 2387.68333 &  76.15385 &  49.41057 &  98.84815\\\\\n",
       "\t   6597 & 1980.798 & 1638.98333 &  49.92308 &  32.47615 &  81.56882\\\\\n",
       "\t  14614 & 2269.587 & 1789.46667 &  82.01236 &  71.81235 & 132.41135\\\\\n",
       "\t  16347 & 1819.137 & 1582.60000 &  34.12414 &  31.45997 &  54.50049\\\\\n",
       "\t  38572 & 1767.394 & 1640.98333 &  27.07692 &  27.79445 &  49.65824\\\\\n",
       "\t  46551 & 1815.566 & 1751.18333 &  66.49085 &  28.34849 &  62.39410\\\\\n",
       "\t  56150 & 1964.383 & 1759.20000 &  55.84615 &  49.92215 &  85.11743\\\\\n",
       "\t  58137 & 2223.086 & 1760.35000 &  61.76923 &  67.38160 & 123.98047\\\\\n",
       "\t  63742 & 1798.167 & 1567.41667 &  49.38915 &  41.30488 &  50.59583\\\\\n",
       "\t  95316 & 2734.179 & 1574.61667 & 193.73879 & 104.40672 & 191.35763\\\\\n",
       "\t 100246 & 2120.367 & 1947.91667 & 104.39618 &  88.98079 & 117.95091\\\\\n",
       "\t 105098 & 1775.482 & 1551.68333 &  14.38462 &  33.55465 &  46.40650\\\\\n",
       "\t 119922 & 2220.164 & 2857.91667 &  94.74016 &  87.13990 & 178.42046\\\\\n",
       "\t 137680 & 1858.764 & 1682.73333 &  39.76923 &  38.50368 &  65.45127\\\\\n",
       "\t   1200 & 1773.618 &  447.10000 &  25.38462 &  23.68794 &  43.54267\\\\\n",
       "\t   1994 & 1750.784 &   63.11667 &  33.84268 &  20.06735 &  40.11766\\\\\n",
       "\t   2495 & 1751.525 &  364.41667 &  38.92308 &  16.71990 &  40.22876\\\\\n",
       "\t   4140 & 1796.793 &  851.03333 &  54.15385 &  51.81587 &  47.01889\\\\\n",
       "\t   4471 & 1766.762 &  175.96667 &  32.37507 &  32.72993 &  42.51437\\\\\n",
       "\t   5497 & 1873.744 &  391.66667 &  33.78548 &  26.51494 &  58.56164\\\\\n",
       "\t   6484 & 1905.768 &  184.85000 &  32.15385 &  33.80969 &  63.36521\\\\\n",
       "\t  12304 & 1786.628 &  712.68333 &  28.76923 &  40.18711 &  45.49418\\\\\n",
       "\t  12337 & 1764.349 &  260.38333 &  25.38462 &  21.26807 &  42.15234\\\\\n",
       "\t  12539 & 2026.297 &  262.53333 &  46.53846 &  38.98484 &  81.44457\\\\\n",
       "\t  13747 & 1762.130 & 1199.13333 &  33.50769 &  18.84615 &  41.81949\\\\\n",
       "\t  14787 & 1783.389 &  430.10000 &  78.88972 &  63.67945 &  45.00836\\\\\n",
       "\t  15204 & 1774.970 &  565.38333 &  85.79907 &  48.64398 &  43.74553\\\\\n",
       "\t  15217 & 1804.856 &  268.01667 &  32.73747 &  17.45018 &  48.22841\\\\\n",
       "\t  18080 & 1935.591 &  324.58333 &  44.00000 &  35.07972 &  67.83860\\\\\n",
       "\t ⋮ & ⋮ & ⋮ & ⋮ & ⋮ & ⋮\\\\\n",
       "\t 187453 & 0 & 1517.733 &  36.38462 &  33.028216 &  40.88667\\\\\n",
       "\t 188094 & 0 & 1635.883 &  36.99224 &  26.879758 &  46.79417\\\\\n",
       "\t 190007 & 0 & 1680.650 &  46.87692 &  11.646162 &  49.03250\\\\\n",
       "\t 190730 & 0 & 1881.933 &  29.61538 &  36.769231 &  59.09667\\\\\n",
       "\t 191008 & 0 & 1543.450 &  38.92308 &  24.973659 &  42.17250\\\\\n",
       "\t 191056 & 0 & 1615.900 &  32.92846 &  26.304031 &  45.79500\\\\\n",
       "\t 192212 & 0 & 1823.667 &  50.76923 &  13.168816 &  56.18333\\\\\n",
       "\t 193568 & 0 & 1558.933 &  47.21098 &  48.315040 &  42.94667\\\\\n",
       "\t 193675 & 0 & 2248.817 &  86.34069 &  78.660725 &  77.44083\\\\\n",
       "\t 193680 & 0 & 1735.150 &  59.20522 &  54.053426 &  51.75750\\\\\n",
       "\t 195560 & 0 & 1670.250 &  62.77268 &  53.859773 &  48.51250\\\\\n",
       "\t 195755 & 0 & 2142.200 &  99.49754 &  90.451770 &  72.11000\\\\\n",
       "\t 195758 & 0 & 2882.017 & 136.50061 & 124.090883 & 109.10083\\\\\n",
       "\t 196436 & 0 & 3055.750 &  75.81538 &  79.527125 & 117.78750\\\\\n",
       "\t 197036 & 0 & 2019.883 & 298.12674 & 269.034993 &  65.99417\\\\\n",
       "\t 197253 & 0 & 2258.167 &  62.80599 &  51.561050 &  77.90833\\\\\n",
       "\t 199222 & 0 & 3591.033 &  89.99087 &  55.705154 & 144.55167\\\\\n",
       "\t 200014 & 0 & 1929.250 &  97.85287 &  89.182355 &  61.46250\\\\\n",
       "\t 200015 & 0 & 2110.767 & 109.36488 &  99.449795 &  70.53833\\\\\n",
       "\t 200017 & 0 & 2272.250 & 115.94330 & 105.558807 &  78.61250\\\\\n",
       "\t 200018 & 0 & 2066.783 & 107.72038 &  96.685055 &  68.33917\\\\\n",
       "\t 200020 & 0 & 1514.967 &  81.40694 &  70.247463 &  40.74833\\\\\n",
       "\t 200022 & 0 & 1540.367 &  79.76244 &  72.741396 &  42.01833\\\\\n",
       "\t 200030 & 0 & 1735.917 &  90.45232 &  81.653411 &  51.79583\\\\\n",
       "\t 200187 & 0 & 1723.100 &  48.23077 &  12.699847 &  51.15500\\\\\n",
       "\t 201348 & 0 & 2035.550 & 106.89808 &  96.317814 &  66.77750\\\\\n",
       "\t 202517 & 0 & 1620.750 &  53.79998 &  33.356033 &  46.03750\\\\\n",
       "\t 202734 & 0 & 2066.200 &  37.81750 &  36.722281 &  68.31000\\\\\n",
       "\t 205041 & 0 & 1597.567 &  50.93567 &   8.543079 &  44.87833\\\\\n",
       "\t 205591 & 0 & 1699.533 &  33.33389 &  36.922942 &  49.97667\\\\\n",
       "\\end{tabular}\n"
      ],
      "text/markdown": [
       "\n",
       "A data.frame: 476 × 6\n",
       "\n",
       "| user &lt;int&gt; | ADPU_August &lt;dbl&gt; | MOU_August &lt;dbl&gt; | Recharge_August &lt;dbl&gt; | Revenue_August &lt;dbl&gt; | New_Price &lt;dbl&gt; |\n",
       "|---|---|---|---|---|---|\n",
       "|    548 | 1784.139 | 1606.61667 |  54.15385 |  43.96629 |  50.45164 |\n",
       "|   5363 | 1846.427 | 2387.68333 |  76.15385 |  49.41057 |  98.84815 |\n",
       "|   6597 | 1980.798 | 1638.98333 |  49.92308 |  32.47615 |  81.56882 |\n",
       "|  14614 | 2269.587 | 1789.46667 |  82.01236 |  71.81235 | 132.41135 |\n",
       "|  16347 | 1819.137 | 1582.60000 |  34.12414 |  31.45997 |  54.50049 |\n",
       "|  38572 | 1767.394 | 1640.98333 |  27.07692 |  27.79445 |  49.65824 |\n",
       "|  46551 | 1815.566 | 1751.18333 |  66.49085 |  28.34849 |  62.39410 |\n",
       "|  56150 | 1964.383 | 1759.20000 |  55.84615 |  49.92215 |  85.11743 |\n",
       "|  58137 | 2223.086 | 1760.35000 |  61.76923 |  67.38160 | 123.98047 |\n",
       "|  63742 | 1798.167 | 1567.41667 |  49.38915 |  41.30488 |  50.59583 |\n",
       "|  95316 | 2734.179 | 1574.61667 | 193.73879 | 104.40672 | 191.35763 |\n",
       "| 100246 | 2120.367 | 1947.91667 | 104.39618 |  88.98079 | 117.95091 |\n",
       "| 105098 | 1775.482 | 1551.68333 |  14.38462 |  33.55465 |  46.40650 |\n",
       "| 119922 | 2220.164 | 2857.91667 |  94.74016 |  87.13990 | 178.42046 |\n",
       "| 137680 | 1858.764 | 1682.73333 |  39.76923 |  38.50368 |  65.45127 |\n",
       "|   1200 | 1773.618 |  447.10000 |  25.38462 |  23.68794 |  43.54267 |\n",
       "|   1994 | 1750.784 |   63.11667 |  33.84268 |  20.06735 |  40.11766 |\n",
       "|   2495 | 1751.525 |  364.41667 |  38.92308 |  16.71990 |  40.22876 |\n",
       "|   4140 | 1796.793 |  851.03333 |  54.15385 |  51.81587 |  47.01889 |\n",
       "|   4471 | 1766.762 |  175.96667 |  32.37507 |  32.72993 |  42.51437 |\n",
       "|   5497 | 1873.744 |  391.66667 |  33.78548 |  26.51494 |  58.56164 |\n",
       "|   6484 | 1905.768 |  184.85000 |  32.15385 |  33.80969 |  63.36521 |\n",
       "|  12304 | 1786.628 |  712.68333 |  28.76923 |  40.18711 |  45.49418 |\n",
       "|  12337 | 1764.349 |  260.38333 |  25.38462 |  21.26807 |  42.15234 |\n",
       "|  12539 | 2026.297 |  262.53333 |  46.53846 |  38.98484 |  81.44457 |\n",
       "|  13747 | 1762.130 | 1199.13333 |  33.50769 |  18.84615 |  41.81949 |\n",
       "|  14787 | 1783.389 |  430.10000 |  78.88972 |  63.67945 |  45.00836 |\n",
       "|  15204 | 1774.970 |  565.38333 |  85.79907 |  48.64398 |  43.74553 |\n",
       "|  15217 | 1804.856 |  268.01667 |  32.73747 |  17.45018 |  48.22841 |\n",
       "|  18080 | 1935.591 |  324.58333 |  44.00000 |  35.07972 |  67.83860 |\n",
       "| ⋮ | ⋮ | ⋮ | ⋮ | ⋮ | ⋮ |\n",
       "| 187453 | 0 | 1517.733 |  36.38462 |  33.028216 |  40.88667 |\n",
       "| 188094 | 0 | 1635.883 |  36.99224 |  26.879758 |  46.79417 |\n",
       "| 190007 | 0 | 1680.650 |  46.87692 |  11.646162 |  49.03250 |\n",
       "| 190730 | 0 | 1881.933 |  29.61538 |  36.769231 |  59.09667 |\n",
       "| 191008 | 0 | 1543.450 |  38.92308 |  24.973659 |  42.17250 |\n",
       "| 191056 | 0 | 1615.900 |  32.92846 |  26.304031 |  45.79500 |\n",
       "| 192212 | 0 | 1823.667 |  50.76923 |  13.168816 |  56.18333 |\n",
       "| 193568 | 0 | 1558.933 |  47.21098 |  48.315040 |  42.94667 |\n",
       "| 193675 | 0 | 2248.817 |  86.34069 |  78.660725 |  77.44083 |\n",
       "| 193680 | 0 | 1735.150 |  59.20522 |  54.053426 |  51.75750 |\n",
       "| 195560 | 0 | 1670.250 |  62.77268 |  53.859773 |  48.51250 |\n",
       "| 195755 | 0 | 2142.200 |  99.49754 |  90.451770 |  72.11000 |\n",
       "| 195758 | 0 | 2882.017 | 136.50061 | 124.090883 | 109.10083 |\n",
       "| 196436 | 0 | 3055.750 |  75.81538 |  79.527125 | 117.78750 |\n",
       "| 197036 | 0 | 2019.883 | 298.12674 | 269.034993 |  65.99417 |\n",
       "| 197253 | 0 | 2258.167 |  62.80599 |  51.561050 |  77.90833 |\n",
       "| 199222 | 0 | 3591.033 |  89.99087 |  55.705154 | 144.55167 |\n",
       "| 200014 | 0 | 1929.250 |  97.85287 |  89.182355 |  61.46250 |\n",
       "| 200015 | 0 | 2110.767 | 109.36488 |  99.449795 |  70.53833 |\n",
       "| 200017 | 0 | 2272.250 | 115.94330 | 105.558807 |  78.61250 |\n",
       "| 200018 | 0 | 2066.783 | 107.72038 |  96.685055 |  68.33917 |\n",
       "| 200020 | 0 | 1514.967 |  81.40694 |  70.247463 |  40.74833 |\n",
       "| 200022 | 0 | 1540.367 |  79.76244 |  72.741396 |  42.01833 |\n",
       "| 200030 | 0 | 1735.917 |  90.45232 |  81.653411 |  51.79583 |\n",
       "| 200187 | 0 | 1723.100 |  48.23077 |  12.699847 |  51.15500 |\n",
       "| 201348 | 0 | 2035.550 | 106.89808 |  96.317814 |  66.77750 |\n",
       "| 202517 | 0 | 1620.750 |  53.79998 |  33.356033 |  46.03750 |\n",
       "| 202734 | 0 | 2066.200 |  37.81750 |  36.722281 |  68.31000 |\n",
       "| 205041 | 0 | 1597.567 |  50.93567 |   8.543079 |  44.87833 |\n",
       "| 205591 | 0 | 1699.533 |  33.33389 |  36.922942 |  49.97667 |\n",
       "\n"
      ],
      "text/plain": [
       "    user   ADPU_August MOU_August Recharge_August Revenue_August New_Price\n",
       "1      548 1784.139    1606.61667  54.15385        43.96629       50.45164\n",
       "2     5363 1846.427    2387.68333  76.15385        49.41057       98.84815\n",
       "3     6597 1980.798    1638.98333  49.92308        32.47615       81.56882\n",
       "4    14614 2269.587    1789.46667  82.01236        71.81235      132.41135\n",
       "5    16347 1819.137    1582.60000  34.12414        31.45997       54.50049\n",
       "6    38572 1767.394    1640.98333  27.07692        27.79445       49.65824\n",
       "7    46551 1815.566    1751.18333  66.49085        28.34849       62.39410\n",
       "8    56150 1964.383    1759.20000  55.84615        49.92215       85.11743\n",
       "9    58137 2223.086    1760.35000  61.76923        67.38160      123.98047\n",
       "10   63742 1798.167    1567.41667  49.38915        41.30488       50.59583\n",
       "11   95316 2734.179    1574.61667 193.73879       104.40672      191.35763\n",
       "12  100246 2120.367    1947.91667 104.39618        88.98079      117.95091\n",
       "13  105098 1775.482    1551.68333  14.38462        33.55465       46.40650\n",
       "14  119922 2220.164    2857.91667  94.74016        87.13990      178.42046\n",
       "15  137680 1858.764    1682.73333  39.76923        38.50368       65.45127\n",
       "16    1200 1773.618     447.10000  25.38462        23.68794       43.54267\n",
       "17    1994 1750.784      63.11667  33.84268        20.06735       40.11766\n",
       "18    2495 1751.525     364.41667  38.92308        16.71990       40.22876\n",
       "19    4140 1796.793     851.03333  54.15385        51.81587       47.01889\n",
       "20    4471 1766.762     175.96667  32.37507        32.72993       42.51437\n",
       "21    5497 1873.744     391.66667  33.78548        26.51494       58.56164\n",
       "22    6484 1905.768     184.85000  32.15385        33.80969       63.36521\n",
       "23   12304 1786.628     712.68333  28.76923        40.18711       45.49418\n",
       "24   12337 1764.349     260.38333  25.38462        21.26807       42.15234\n",
       "25   12539 2026.297     262.53333  46.53846        38.98484       81.44457\n",
       "26   13747 1762.130    1199.13333  33.50769        18.84615       41.81949\n",
       "27   14787 1783.389     430.10000  78.88972        63.67945       45.00836\n",
       "28   15204 1774.970     565.38333  85.79907        48.64398       43.74553\n",
       "29   15217 1804.856     268.01667  32.73747        17.45018       48.22841\n",
       "30   18080 1935.591     324.58333  44.00000        35.07972       67.83860\n",
       "⋮   ⋮      ⋮           ⋮          ⋮               ⋮              ⋮        \n",
       "447 187453 0           1517.733    36.38462        33.028216      40.88667\n",
       "448 188094 0           1635.883    36.99224        26.879758      46.79417\n",
       "449 190007 0           1680.650    46.87692        11.646162      49.03250\n",
       "450 190730 0           1881.933    29.61538        36.769231      59.09667\n",
       "451 191008 0           1543.450    38.92308        24.973659      42.17250\n",
       "452 191056 0           1615.900    32.92846        26.304031      45.79500\n",
       "453 192212 0           1823.667    50.76923        13.168816      56.18333\n",
       "454 193568 0           1558.933    47.21098        48.315040      42.94667\n",
       "455 193675 0           2248.817    86.34069        78.660725      77.44083\n",
       "456 193680 0           1735.150    59.20522        54.053426      51.75750\n",
       "457 195560 0           1670.250    62.77268        53.859773      48.51250\n",
       "458 195755 0           2142.200    99.49754        90.451770      72.11000\n",
       "459 195758 0           2882.017   136.50061       124.090883     109.10083\n",
       "460 196436 0           3055.750    75.81538        79.527125     117.78750\n",
       "461 197036 0           2019.883   298.12674       269.034993      65.99417\n",
       "462 197253 0           2258.167    62.80599        51.561050      77.90833\n",
       "463 199222 0           3591.033    89.99087        55.705154     144.55167\n",
       "464 200014 0           1929.250    97.85287        89.182355      61.46250\n",
       "465 200015 0           2110.767   109.36488        99.449795      70.53833\n",
       "466 200017 0           2272.250   115.94330       105.558807      78.61250\n",
       "467 200018 0           2066.783   107.72038        96.685055      68.33917\n",
       "468 200020 0           1514.967    81.40694        70.247463      40.74833\n",
       "469 200022 0           1540.367    79.76244        72.741396      42.01833\n",
       "470 200030 0           1735.917    90.45232        81.653411      51.79583\n",
       "471 200187 0           1723.100    48.23077        12.699847      51.15500\n",
       "472 201348 0           2035.550   106.89808        96.317814      66.77750\n",
       "473 202517 0           1620.750    53.79998        33.356033      46.03750\n",
       "474 202734 0           2066.200    37.81750        36.722281      68.31000\n",
       "475 205041 0           1597.567    50.93567         8.543079      44.87833\n",
       "476 205591 0           1699.533    33.33389        36.922942      49.97667"
      ]
     },
     "metadata": {},
     "output_type": "display_data"
    }
   ],
   "source": [
    "#Grouping these scenarios, new CVP could impact \n",
    "real_impact <- distinct(rbind(point_3_1,point_3_2,point_3_3), user, `.keep_all` = TRUE )\n",
    "cat(\"Joining scenarios: \\n\")\n",
    "cat(sprintf(\"Grouping 3 possible scenarios,  %0.f users will be interested in CVP, impacting incomes for company in USD %2.f \\n\",\n",
    "    nrow(real_impact), sum(real_impact$Revenue_August,real_impact$Recharge_August, -real_impact$New_Price) ))\n",
    "real_impact"
   ]
  }
 ],
 "metadata": {
  "kernelspec": {
   "display_name": "R",
   "language": "R",
   "name": "ir"
  },
  "language_info": {
   "codemirror_mode": "r",
   "file_extension": ".r",
   "mimetype": "text/x-r-source",
   "name": "R",
   "pygments_lexer": "r",
   "version": "3.6.3"
  }
 },
 "nbformat": 4,
 "nbformat_minor": 4
}
